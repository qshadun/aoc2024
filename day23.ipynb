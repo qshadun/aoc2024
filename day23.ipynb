{
 "cells": [
  {
   "cell_type": "code",
   "execution_count": null,
   "metadata": {},
   "outputs": [],
   "source": [
    "from collections import defaultdict\n",
    "\n",
    "def parse_input(input_file):\n",
    "    nodes = set()\n",
    "    adj = defaultdict(set)\n",
    "    with open(input_file) as f:\n",
    "        for line in f:\n",
    "            a, b = line.rstrip().split('-')\n",
    "            nodes.add(a)\n",
    "            nodes.add(b)\n",
    "            adj[a].add(b)\n",
    "            adj[b].add(a)\n",
    "    return nodes, adj\n",
    "\n",
    "\n",
    "def part1(input_file):\n",
    "    nodes, adj = parse_input(input_file)\n",
    "    triples = set()\n",
    "    for n1 in nodes:\n",
    "        for n2 in adj[n1]:\n",
    "            for n3 in adj[n2]:\n",
    "                if n1 in adj[n3] and (n1[0] == 't' or n2[0] == 't' or n3[0] == 't'):\n",
    "                    tmp = [n1, n2, n3]\n",
    "                    tmp.sort()\n",
    "                    triples.add(tuple(tmp))\n",
    "    # for tp in triples:\n",
    "    #     print(','.join(tp))\n",
    "    return len(triples)\n",
    "\n",
    "\n",
    "# https://en.wikipedia.org/wiki/Bron%E2%80%93Kerbosch_algorithm\n",
    "# https://en.wikipedia.org/wiki/Clique_(graph_theory)\n",
    "def part2(input_file):\n",
    "    nodes, adj = parse_input(input_file)\n",
    "    cliques = []\n",
    "    def bron_kerbosch2(R, P, X):\n",
    "        if not P and not X:\n",
    "            cliques.append(','.join(sorted(list(R))))\n",
    "            return\n",
    "        u = next(iter(P | X))\n",
    "        for v in P - adj[u]:\n",
    "            bron_kerbosch2(R | {v}, P & adj[v], X & adj[v])\n",
    "            P.remove(v)\n",
    "            X.add(v)\n",
    "    bron_kerbosch2(set(), nodes, set())\n",
    "    # print(cliques)\n",
    "    max_len = 0\n",
    "    ans = None\n",
    "    for c in cliques:\n",
    "        if len(c) > max_len:\n",
    "            max_len = len(c)\n",
    "            ans = c\n",
    "\n",
    "    return ans"
   ]
  },
  {
   "cell_type": "code",
   "execution_count": 24,
   "metadata": {},
   "outputs": [
    {
     "data": {
      "text/plain": [
       "7"
      ]
     },
     "execution_count": 24,
     "metadata": {},
     "output_type": "execute_result"
    }
   ],
   "source": [
    "part1('input/day23_test.txt')"
   ]
  },
  {
   "cell_type": "code",
   "execution_count": 25,
   "metadata": {},
   "outputs": [
    {
     "data": {
      "text/plain": [
       "1599"
      ]
     },
     "execution_count": 25,
     "metadata": {},
     "output_type": "execute_result"
    }
   ],
   "source": [
    "part1('input/day23.txt')"
   ]
  },
  {
   "cell_type": "code",
   "execution_count": 43,
   "metadata": {},
   "outputs": [
    {
     "data": {
      "text/plain": [
       "'co,de,ka,ta'"
      ]
     },
     "execution_count": 43,
     "metadata": {},
     "output_type": "execute_result"
    }
   ],
   "source": [
    "part2('input/day23_test.txt')"
   ]
  },
  {
   "cell_type": "code",
   "execution_count": 44,
   "metadata": {},
   "outputs": [
    {
     "data": {
      "text/plain": [
       "'av,ax,dg,di,dw,fa,ge,kh,ki,ot,qw,vz,yw'"
      ]
     },
     "execution_count": 44,
     "metadata": {},
     "output_type": "execute_result"
    }
   ],
   "source": [
    "part2('input/day23.txt')"
   ]
  },
  {
   "cell_type": "code",
   "execution_count": null,
   "metadata": {},
   "outputs": [],
   "source": []
  }
 ],
 "metadata": {
  "kernelspec": {
   "display_name": "base",
   "language": "python",
   "name": "python3"
  },
  "language_info": {
   "codemirror_mode": {
    "name": "ipython",
    "version": 3
   },
   "file_extension": ".py",
   "mimetype": "text/x-python",
   "name": "python",
   "nbconvert_exporter": "python",
   "pygments_lexer": "ipython3",
   "version": "3.12.7"
  }
 },
 "nbformat": 4,
 "nbformat_minor": 2
}
