{
 "cells": [
  {
   "cell_type": "code",
   "execution_count": 11,
   "metadata": {},
   "outputs": [],
   "source": [
    "from collections import deque\n",
    "\n",
    "\n",
    "def parse_input(input_file):\n",
    "    ans = []\n",
    "    with open(input_file) as f:\n",
    "        for line in f:\n",
    "            x, y = line.rstrip().split(',')\n",
    "            ans.append((int(x), int(y)))\n",
    "    return ans\n",
    "\n",
    "\n",
    "deltas = [(-1, 0), (1, 0), (0, -1), (0, 1)]\n",
    "def part1(input_file, grid_size, byte_num):\n",
    "    blocks = parse_input(input_file)\n",
    "    grid = [['.'] * grid_size for _ in range(grid_size)]\n",
    "    for x, y in blocks[:byte_num]:\n",
    "        grid[y][x] = '#'\n",
    "    start = (0, 0)\n",
    "    visited = set()\n",
    "    visited.add(start)\n",
    "    q = deque([start])\n",
    "    steps = 0\n",
    "    while q:\n",
    "        cur_len = len(q)\n",
    "        for _ in range(cur_len):\n",
    "            x, y = q.popleft()\n",
    "            for dx, dy in deltas:\n",
    "                nx, ny = x + dx, y + dy\n",
    "                if nx == grid_size - 1 and ny == grid_size - 1:\n",
    "                    return steps + 1\n",
    "                if 0 <= nx < grid_size and 0 <= ny < grid_size and grid[ny][nx] == '.' and (nx, ny) not in visited:\n",
    "                    q.append((nx, ny))\n",
    "                    visited.add((nx, ny))\n",
    "        steps += 1\n",
    "    \n",
    "def part2(input_file, grid_size, byte_num):\n",
    "    blocks = parse_input(input_file)\n",
    "    grid = [['.'] * grid_size for _ in range(grid_size)]\n",
    "    for x, y in blocks[:byte_num]:\n",
    "        grid[y][x] = '#'\n",
    "    \n",
    "    def can_reach():\n",
    "        start = (0, 0)\n",
    "        visited = set()\n",
    "        visited.add(start)\n",
    "        q = deque([start])\n",
    "        steps = 0\n",
    "        while q:\n",
    "            cur_len = len(q)\n",
    "            for _ in range(cur_len):\n",
    "                x, y = q.popleft()\n",
    "                for dx, dy in deltas:\n",
    "                    nx, ny = x + dx, y + dy\n",
    "                    if nx == grid_size - 1 and ny == grid_size - 1:\n",
    "                        return True\n",
    "                    if 0 <= nx < grid_size and 0 <= ny < grid_size and grid[ny][nx] == '.' and (nx, ny) not in visited:\n",
    "                        q.append((nx, ny))\n",
    "                        visited.add((nx, ny))\n",
    "            steps += 1\n",
    "        return False\n",
    "    i = byte_num\n",
    "    while i < len(blocks):\n",
    "        x, y = blocks[i]\n",
    "        grid[y][x] = '#'\n",
    "        if can_reach():\n",
    "            i += 1\n",
    "        else:\n",
    "            return x, y\n"
   ]
  },
  {
   "cell_type": "code",
   "execution_count": 8,
   "metadata": {},
   "outputs": [
    {
     "data": {
      "text/plain": [
       "22"
      ]
     },
     "execution_count": 8,
     "metadata": {},
     "output_type": "execute_result"
    }
   ],
   "source": [
    "part1('input/day18_test.txt', 7, 12)"
   ]
  },
  {
   "cell_type": "code",
   "execution_count": 10,
   "metadata": {},
   "outputs": [
    {
     "data": {
      "text/plain": [
       "272"
      ]
     },
     "execution_count": 10,
     "metadata": {},
     "output_type": "execute_result"
    }
   ],
   "source": [
    "part1('input/day18.txt', 71, 1024)"
   ]
  },
  {
   "cell_type": "code",
   "execution_count": 12,
   "metadata": {},
   "outputs": [
    {
     "data": {
      "text/plain": [
       "(6, 1)"
      ]
     },
     "execution_count": 12,
     "metadata": {},
     "output_type": "execute_result"
    }
   ],
   "source": [
    "part2('input/day18_test.txt', 7, 12)"
   ]
  },
  {
   "cell_type": "code",
   "execution_count": 13,
   "metadata": {},
   "outputs": [
    {
     "data": {
      "text/plain": [
       "(16, 44)"
      ]
     },
     "execution_count": 13,
     "metadata": {},
     "output_type": "execute_result"
    }
   ],
   "source": [
    "part2('input/day18.txt', 71, 1024)"
   ]
  },
  {
   "cell_type": "code",
   "execution_count": null,
   "metadata": {},
   "outputs": [],
   "source": []
  }
 ],
 "metadata": {
  "kernelspec": {
   "display_name": "base",
   "language": "python",
   "name": "python3"
  },
  "language_info": {
   "codemirror_mode": {
    "name": "ipython",
    "version": 3
   },
   "file_extension": ".py",
   "mimetype": "text/x-python",
   "name": "python",
   "nbconvert_exporter": "python",
   "pygments_lexer": "ipython3",
   "version": "3.12.7"
  }
 },
 "nbformat": 4,
 "nbformat_minor": 2
}
