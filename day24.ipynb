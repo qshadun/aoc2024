{
 "cells": [
  {
   "cell_type": "code",
   "execution_count": null,
   "metadata": {},
   "outputs": [],
   "source": [
    "from collections import defaultdict\n",
    "\n",
    "def parse_input(input_file):\n",
    "    gates = []\n",
    "    values = {}\n",
    "    is_gates = False\n",
    "    with open(input_file) as f:\n",
    "        for line in f:\n",
    "            line = line.rstrip()\n",
    "            if not line:\n",
    "                is_gates = True\n",
    "            elif not is_gates:\n",
    "                a, b = line.split(': ')\n",
    "                values[a] = int(b)\n",
    "            else:\n",
    "                a, op, b, _, c = line.split(' ')\n",
    "                gates.append([a, op, b, c])\n",
    "    return values, gates\n",
    "\n",
    "\n",
    "def calc(a, op, b):\n",
    "    match op:\n",
    "        case 'XOR':\n",
    "            return a ^ b\n",
    "        case 'AND':\n",
    "            return a & b\n",
    "        case 'OR':\n",
    "            return a | b\n",
    "        \n",
    "def part1(input_file):\n",
    "    values, gates = parse_input(input_file)\n",
    "    ans = 0\n",
    "    unsolved = gates\n",
    "    while unsolved:\n",
    "        remain = []\n",
    "        for a, op, b, c in unsolved:\n",
    "            if a in values and b in values:\n",
    "                values[c] = calc(values[a], op, values[b])\n",
    "            else:\n",
    "                remain.append([a, op, b, c])\n",
    "        unsolved = remain\n",
    "    for k, v in values.items():\n",
    "        if k[0] == 'z' and v:\n",
    "            idx = int(k[1:])\n",
    "            ans |= (1 << idx)\n",
    "\n",
    "    return ans\n",
    "\n",
    "\n",
    "def to_node(prefix, i):\n",
    "    if i < 10:\n",
    "        return f'{prefix}0{i}'\n",
    "    else:\n",
    "        return f'{prefix}{i}'\n",
    "    \n",
    "def check(gates):\n",
    "    ans = {}\n",
    "    for i in range(45):\n",
    "        ans[to_node('x', i)] = (1<<i, 0)\n",
    "        ans[to_node('y', i)] = (0, 1<<i)\n",
    "    \n",
    "    unsolved = gates\n",
    "    while unsolved:\n",
    "        remain = []\n",
    "        for a, op, b, c in unsolved:\n",
    "            if a in ans and b in ans:\n",
    "                ans[c] = (ans[a][0] | ans[b][0], ans[a][1] | ans[b][1])\n",
    "            else:\n",
    "                remain.append([a, op, b, c])\n",
    "        unsolved = remain\n",
    "    return ans\n",
    "\n",
    "def part2(input_file):\n",
    "    values, gates = parse_input(input_file)\n",
    "    all_gates = {x[3] for x in gates}\n",
    "    print(len(all_gates))\n",
    "    return check(gates)\n",
    "\n",
    "    \n"
   ]
  },
  {
   "cell_type": "code",
   "execution_count": 22,
   "metadata": {},
   "outputs": [
    {
     "data": {
      "text/plain": [
       "2024"
      ]
     },
     "execution_count": 22,
     "metadata": {},
     "output_type": "execute_result"
    }
   ],
   "source": [
    "part1('input/day24_test.txt')"
   ]
  },
  {
   "cell_type": "code",
   "execution_count": 23,
   "metadata": {},
   "outputs": [
    {
     "data": {
      "text/plain": [
       "46362252142374"
      ]
     },
     "execution_count": 23,
     "metadata": {},
     "output_type": "execute_result"
    }
   ],
   "source": [
    "part1('input/day24.txt')"
   ]
  },
  {
   "cell_type": "code",
   "execution_count": 28,
   "metadata": {},
   "outputs": [],
   "source": [
    "graph, zs = part2('input/day24.txt')"
   ]
  },
  {
   "cell_type": "code",
   "execution_count": 60,
   "metadata": {},
   "outputs": [
    {
     "name": "stdout",
     "output_type": "stream",
     "text": [
      "222\n"
     ]
    }
   ],
   "source": [
    "s = part2('input/day24.txt')"
   ]
  },
  {
   "cell_type": "code",
   "execution_count": 62,
   "metadata": {},
   "outputs": [
    {
     "name": "stdout",
     "output_type": "stream",
     "text": [
      "6 (64, 64)\n",
      "45 (35184372088831, 35184372088831)\n"
     ]
    }
   ],
   "source": [
    "for i in range(46):\n",
    "    target = 2 ** (i+1) - 1\n",
    "    v = s[to_node('z', i)]\n",
    "    if v != (target, target):\n",
    "        print(i, s[to_node('z', i)])"
   ]
  },
  {
   "cell_type": "code",
   "execution_count": 45,
   "metadata": {},
   "outputs": [],
   "source": [
    "def print_tree(graph, node):\n",
    "    cur_level = [graph[node]]\n",
    "    while cur_level:\n",
    "        print(','.join(' '.join(x) for x in cur_level))\n",
    "        next_level = []\n",
    "        for x in cur_level:\n",
    "            a, op, b = x\n",
    "            for y in [a, b]:\n",
    "                if y[0] not in 'xy':\n",
    "                    next_level.append(graph[y])\n",
    "                    \n",
    "        cur_level = next_level\n",
    "    "
   ]
  },
  {
   "cell_type": "code",
   "execution_count": 47,
   "metadata": {},
   "outputs": [
    {
     "name": "stdout",
     "output_type": "stream",
     "text": [
      "nrs XOR qdt\n",
      "dmk OR ntf,x02 XOR y02\n",
      "y01 AND x01,nqp AND fht\n",
      "x00 AND y00,x01 XOR y01\n"
     ]
    }
   ],
   "source": [
    "print_tree(graph, 'z02')"
   ]
  },
  {
   "cell_type": "code",
   "execution_count": 39,
   "metadata": {},
   "outputs": [
    {
     "data": {
      "text/plain": [
       "('nrs', 'XOR', 'qdt')"
      ]
     },
     "execution_count": 39,
     "metadata": {},
     "output_type": "execute_result"
    }
   ],
   "source": [
    "graph['z02']"
   ]
  },
  {
   "cell_type": "code",
   "execution_count": 63,
   "metadata": {},
   "outputs": [
    {
     "name": "stdout",
     "output_type": "stream",
     "text": [
      "Found a good swap. Got to a higher iteration number: 12\n",
      "Found a good swap. Got to a higher iteration number: 24\n",
      "Found a good swap. Got to a higher iteration number: 37\n",
      "Found a good swap. Got to a higher iteration number: 45\n",
      "{('z06', 'jmq'), ('cbd', 'rqf'), ('z13', 'gmh'), ('z38', 'qrh')}\n",
      "Part 1 answer: 46362252142374\n",
      "Part 2 answer: cbd,gmh,jmq,qrh,rqf,z06,z13,z38\n"
     ]
    }
   ],
   "source": [
    "# Day       Time  Rank  Score       Time   Rank  Score\n",
    "#  24   00:23:11  1798      0   01:56:56    699      0\n",
    "\n",
    "import re\n",
    "from functools import cache\n",
    "from itertools import combinations\n",
    "\n",
    "\n",
    "ans1, ans2 = 0, 0\n",
    "with open(\"input/day24.txt\", \"r\") as f:\n",
    "    text = f.read()\n",
    "\n",
    "inputs, gates = text.split(\"\\n\\n\")\n",
    "\n",
    "input_pattern = r\"([xy]\\d\\d): ([10])\"\n",
    "finished = {}\n",
    "for line in inputs.split(\"\\n\"):\n",
    "    match = re.search(input_pattern, line)\n",
    "    input_name, val = match.groups()\n",
    "    val = int(val)\n",
    "    finished[input_name] = val\n",
    "\n",
    "gate_pattern = r\"([a-z0-9]{3}) ([XORAND]+) ([a-z0-9]{3}) -> ([a-z0-9]{3})\"\n",
    "ops = set()\n",
    "op_list = []\n",
    "for line in gates.split(\"\\n\"):\n",
    "    match = re.search(gate_pattern, line)\n",
    "    x1, op, x2, res = match.groups()\n",
    "    ops.add((x1, x2, res, op))\n",
    "    op_list.append((x1, x2, res, op))\n",
    "\n",
    "# Part 1: simulation.\n",
    "# Note that the dependencies make the outputs form a tree structure, with input nodes as leaves. Process nodes in order of depth -- this means we always have the operands ready once we get to any given gate.\n",
    "\n",
    "# Calculating the structure of the tree\n",
    "parents = {}\n",
    "op_map = {}  # Mapping output name to corresponding operation (XOR, OR, AND)\n",
    "for x1, x2, res, op in ops:\n",
    "    parents[res] = (x1, x2)\n",
    "    op_map[res] = op\n",
    "\n",
    "@cache\n",
    "def get_depth(reg):\n",
    "    if reg in finished:\n",
    "        return 0\n",
    "    assert reg in parents\n",
    "    x1, x2 = parents[reg]\n",
    "    # Need to finish x1 and x2 first\n",
    "    return max(get_depth(x1), get_depth(x2)) + 1\n",
    "\n",
    "# Calculate in optimal order\n",
    "vars = [(res, get_depth(res)) for _, _, res, _ in ops]\n",
    "vars.sort(key=lambda x: x[1])  # Process lower depth first\n",
    "for reg, _ in vars:\n",
    "    assert reg in parents\n",
    "    x1, x2 = parents[reg]\n",
    "    v1, v2 = finished[x1], finished[x2]\n",
    "    op = op_map[reg]\n",
    "    val = {\n",
    "        \"XOR\": lambda a, b: a ^ b,\n",
    "        \"OR\": lambda a, b: a | b,\n",
    "        \"AND\": lambda a, b: a & b,\n",
    "    }[op](v1, v2)\n",
    "    finished[reg] = val\n",
    "\n",
    "# Concatenate outputs -> binary -> decimal\n",
    "regs = list(finished.items())\n",
    "regs.sort(key=lambda x: x[0])\n",
    "num_out = int(str(regs[-1][0])[-2:]) + 1\n",
    "bin_str = \"\".join(str(val) for _, val in regs[-num_out:])\n",
    "ans1 = int(bin_str[::-1], 2)\n",
    "\n",
    "# Part 2: given the list of operations, see how far we get and keep track of wires that must be correct.\n",
    "# Derived which input lines corresponded to which wires in a ripple-carry adder. \"Commit point\" is when the output matches z15 or whatever -- we know everything that that output depended on must be correct.\n",
    "def furthest_made(op_list):\n",
    "    ops = {}\n",
    "    for x1, x2, res, op in op_list:\n",
    "        ops[(frozenset([x1, x2]), op)] = res  # hashability reason\n",
    "\n",
    "    # here, x1 and x2 can be provided in any order :)\n",
    "    def get_res(x1, x2, op):\n",
    "        return ops.get((frozenset([x1, x2]), op), None)\n",
    "\n",
    "    carries = {}\n",
    "    correct = set()\n",
    "    prev_intermediates = set()\n",
    "    for i in range(45):\n",
    "        pos = f\"0{i}\" if i < 10 else str(i)\n",
    "        predigit = get_res(f\"x{pos}\", f\"y{pos}\", \"XOR\")\n",
    "        precarry1 = get_res(f\"x{pos}\", f\"y{pos}\", \"AND\")\n",
    "        if i == 0:\n",
    "            # only two, XOR and AND\n",
    "            assert predigit == f\"z00\"\n",
    "            carries[i] = precarry1\n",
    "            continue\n",
    "        digit = get_res(carries[i - 1], predigit, \"XOR\")\n",
    "        if digit != f\"z{pos}\":\n",
    "            return i - 1, correct\n",
    "\n",
    "        # If it DID work, we know carries[i-1] and predigit were correct\n",
    "        correct.add(carries[i - 1])\n",
    "        correct.add(predigit)\n",
    "        # Also add variables from previous position's ripple-carry adder module\n",
    "        for wire in prev_intermediates:\n",
    "            correct.add(wire)\n",
    "\n",
    "        # Next, we compute the carries\n",
    "        precarry2 = get_res(carries[i - 1], predigit, \"AND\")\n",
    "        carry_out = get_res(precarry1, precarry2, \"OR\")\n",
    "        carries[i] = carry_out\n",
    "        prev_intermediates = set([precarry1, precarry2])\n",
    "\n",
    "    return 45, correct\n",
    "\n",
    "swaps = set()\n",
    "\n",
    "base, base_used = furthest_made(op_list)  # Everything up to 20 is fine\n",
    "for _ in range(4):\n",
    "    # try swapping\n",
    "    for i, j in combinations(range(len(op_list)), 2):\n",
    "        x1_i, x2_i, res_i, op_i = op_list[i]\n",
    "        x1_j, x2_j, res_j, op_j = op_list[j]\n",
    "        # Don't switch z00 out\n",
    "        if \"z00\" in (res_i, res_j):\n",
    "            continue\n",
    "        # Don't switch if these wires have already been used\n",
    "        if res_i in base_used or res_j in base_used:\n",
    "            continue\n",
    "        # Switch output wires\n",
    "        op_list[i] = x1_i, x2_i, res_j, op_i\n",
    "        op_list[j] = x1_j, x2_j, res_i, op_j\n",
    "        attempt, attempt_used = furthest_made(op_list)\n",
    "        if attempt > base:\n",
    "            print(f\"Found a good swap. Got to a higher iteration number: {attempt}\")\n",
    "            swaps.add((res_i, res_j))\n",
    "            base, base_used = attempt, attempt_used\n",
    "            break\n",
    "        # Switch output wires back\n",
    "        op_list[i] = x1_i, x2_i, res_i, op_i\n",
    "        op_list[j] = x1_j, x2_j, res_j, op_j\n",
    "print(swaps)\n",
    "\n",
    "ans2 = \",\".join(sorted(sum(swaps, start=tuple())))\n",
    "\n",
    "print(f\"Part 1 answer: {ans1}\")\n",
    "print(f\"Part 2 answer: {ans2}\")"
   ]
  },
  {
   "cell_type": "code",
   "execution_count": null,
   "metadata": {},
   "outputs": [],
   "source": []
  }
 ],
 "metadata": {
  "kernelspec": {
   "display_name": "base",
   "language": "python",
   "name": "python3"
  },
  "language_info": {
   "codemirror_mode": {
    "name": "ipython",
    "version": 3
   },
   "file_extension": ".py",
   "mimetype": "text/x-python",
   "name": "python",
   "nbconvert_exporter": "python",
   "pygments_lexer": "ipython3",
   "version": "3.12.7"
  }
 },
 "nbformat": 4,
 "nbformat_minor": 2
}
