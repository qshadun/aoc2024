{
 "cells": [
  {
   "cell_type": "code",
   "execution_count": null,
   "metadata": {},
   "outputs": [],
   "source": [
    "from collections import defaultdict\n",
    "\n",
    "def parse_input(input_file):\n",
    "    before, after = defaultdict(set), defaultdict(set)\n",
    "    updates = []\n",
    "    is_update = False\n",
    "    with open(input_file) as f:\n",
    "        for line in f:\n",
    "            line = line.rstrip()\n",
    "            if not line:\n",
    "                is_update = True\n",
    "            elif is_update:\n",
    "                updates.append([int(x) for x in line.split(',')])\n",
    "            else:\n",
    "                a, b = line.split('|')\n",
    "                after[int(a)].add(int(b))\n",
    "                before[int(b)].add(int(a))\n",
    "    return before, after, updates\n",
    "\n",
    "def topology_sort(all_nums, before1, after1):\n",
    "    \n",
    "    all_nums = set(all_nums)\n",
    "    before, after = defaultdict(set), defaultdict(set)\n",
    "    for a, bs in before1.items():\n",
    "        if a in all_nums:\n",
    "            before[a] = {x for x in bs if x in all_nums}\n",
    "    for a, bs in after1.items():\n",
    "        if a in all_nums:\n",
    "            after[a] = {x for x in bs if x in all_nums}\n",
    "\n",
    "    in_degree = defaultdict(int)\n",
    "    for a, bs in before.items():\n",
    "        in_degree[a] = len(bs)\n",
    "    \n",
    "    ans = []\n",
    "    sorted = 0\n",
    "    n = len(all_nums)\n",
    "    remain = list(all_nums)\n",
    "    while sorted < n:\n",
    "        cur_level = [x for x in remain if in_degree[x] == 0]\n",
    "        sorted += len(cur_level)\n",
    "        remain = [x for x in remain if in_degree[x] > 0]\n",
    "        ans += cur_level\n",
    "        for x in cur_level:\n",
    "            for y in after[x]:\n",
    "                in_degree[y] -= 1\n",
    "   \n",
    "    return ans\n",
    "\n",
    "\n",
    "def check(update, befores):\n",
    "    for i in range(len(update)-1):\n",
    "        cur_num = update[i]\n",
    "        before_nums = befores[cur_num]\n",
    "        for num in update[i+1:]:\n",
    "            if num in before_nums:\n",
    "                return False\n",
    "    return True\n",
    "\n",
    "def part1(input_file):\n",
    "    before, after, updates = parse_input(input_file)\n",
    "    # befores = find_all_before(before)\n",
    "    # print(befores)\n",
    "    \n",
    "    ans = 0\n",
    "    for update in updates:\n",
    "        if check(update, before):\n",
    "            ans += update[len(update) // 2]\n",
    "    return ans\n",
    "\n",
    "def part2(input_file):\n",
    "    before, after, updates = parse_input(input_file)\n",
    "    # befores = find_all_before(before)\n",
    "    # print(befores)\n",
    "    \n",
    "    ans = 0\n",
    "    for update in updates:\n",
    "        if not check(update, before):\n",
    "            update = topology_sort(update, before, after)\n",
    "            ans += update[len(update) // 2]\n",
    "    return ans"
   ]
  },
  {
   "cell_type": "code",
   "execution_count": 40,
   "metadata": {},
   "outputs": [
    {
     "data": {
      "text/plain": [
       "143"
      ]
     },
     "execution_count": 40,
     "metadata": {},
     "output_type": "execute_result"
    }
   ],
   "source": [
    "part1('input/day5_test.txt')"
   ]
  },
  {
   "cell_type": "code",
   "execution_count": 41,
   "metadata": {},
   "outputs": [
    {
     "data": {
      "text/plain": [
       "5129"
      ]
     },
     "execution_count": 41,
     "metadata": {},
     "output_type": "execute_result"
    }
   ],
   "source": [
    "part1('input/day5.txt')"
   ]
  },
  {
   "cell_type": "code",
   "execution_count": 44,
   "metadata": {},
   "outputs": [
    {
     "data": {
      "text/plain": [
       "123"
      ]
     },
     "execution_count": 44,
     "metadata": {},
     "output_type": "execute_result"
    }
   ],
   "source": [
    "part2('input/day5_test.txt')"
   ]
  },
  {
   "cell_type": "code",
   "execution_count": 45,
   "metadata": {},
   "outputs": [
    {
     "data": {
      "text/plain": [
       "4077"
      ]
     },
     "execution_count": 45,
     "metadata": {},
     "output_type": "execute_result"
    }
   ],
   "source": [
    "part2('input/day5.txt')"
   ]
  },
  {
   "cell_type": "code",
   "execution_count": null,
   "metadata": {},
   "outputs": [],
   "source": []
  }
 ],
 "metadata": {
  "kernelspec": {
   "display_name": "base",
   "language": "python",
   "name": "python3"
  },
  "language_info": {
   "codemirror_mode": {
    "name": "ipython",
    "version": 3
   },
   "file_extension": ".py",
   "mimetype": "text/x-python",
   "name": "python",
   "nbconvert_exporter": "python",
   "pygments_lexer": "ipython3",
   "version": "3.12.7"
  }
 },
 "nbformat": 4,
 "nbformat_minor": 2
}
