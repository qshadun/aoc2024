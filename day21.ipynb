{
 "cells": [
  {
   "cell_type": "code",
   "execution_count": 78,
   "metadata": {},
   "outputs": [],
   "source": [
    "from collections import deque, defaultdict\n",
    "from functools import cache\n",
    "\n",
    "def parse_input(input_file):\n",
    "    grid = []\n",
    "    with open(input_file) as f:\n",
    "        for line in f:\n",
    "            grid.append(line.rstrip())\n",
    "    return grid\n",
    "\n",
    "num_pad = [['7', '8', '9'], ['4', '5', '6'], ['1', '2', '3'], ['', '0', 'A']]\n",
    "dir_pad = [['', '^', 'A'], ['<', 'v', '>']]\n",
    "\n",
    "def to_key_to_position(board):\n",
    "    m, n = len(board), len(board[0])\n",
    "    ans = {}\n",
    "    for i in range(m):\n",
    "        for j in range(n):\n",
    "            if board[i][j]:\n",
    "                ans[board[i][j]] = (i, j)\n",
    "    return ans\n",
    "\n",
    "num_pad_key_to_position = to_key_to_position(num_pad)\n",
    "dir_pad_key_to_position = to_key_to_position(dir_pad)\n",
    "\n",
    "\n",
    "moves = {'^': (-1, 0), 'v': (1, 0), '<': (0, -1), '>':(0, 1)}\n",
    "\n",
    "def shortest_path(board, start, end):\n",
    "    if start == end:\n",
    "        return ['']\n",
    "    m, n = len(board), len(board[0])\n",
    "    shortest = 100\n",
    "    steps = 0\n",
    "    q = deque([(start, '')])\n",
    "    visited = set([(start, '')])\n",
    "    ans = []\n",
    "    while q and steps < shortest:\n",
    "        cur_len = len(q)\n",
    "        for _ in range(cur_len):\n",
    "            (x, y), path = q.popleft()\n",
    "            for mv, (dx, dy) in moves.items():\n",
    "                nx, ny = x + dx, y + dy\n",
    "                if 0 <= nx < m and 0 <= ny < n and board[nx][ny]:\n",
    "                    if (nx, ny) == end:\n",
    "                        shortest = steps\n",
    "                        ans.append(path + mv)\n",
    "                    elif (nx, ny) not in visited:\n",
    "                        new_path = path + mv\n",
    "                        visited.add(((nx, ny), new_path))\n",
    "                        q.append(((nx, ny), new_path))\n",
    "        steps += 1\n",
    "    \n",
    "    return ans\n",
    "\n",
    "def shorted_seq_keyboard(seq):\n",
    "    start = num_pad_key_to_position['A']\n",
    "    ans = ['']\n",
    "    for c in seq:\n",
    "        end = num_pad_key_to_position[c]\n",
    "        paths = shortest_path(num_pad, start, end)\n",
    "        new_ans = []\n",
    "        for p in ans:\n",
    "            for p1 in paths:\n",
    "                new_ans.append(p + p1 + 'A')\n",
    "        start = end\n",
    "        ans = new_ans\n",
    "    return ans\n",
    "\n",
    "@cache\n",
    "def shortest_path_numpad(start, end):\n",
    "    return shortest_path(num_pad, start, end)\n",
    "\n",
    "@cache\n",
    "def shortest_path_direction(start, end):\n",
    "    return shortest_path(dir_pad, start, end)\n",
    "\n",
    "def shorted_seq_direction(seq):\n",
    "    start = dir_pad_key_to_position['A']\n",
    "    ans = ['']\n",
    "    for c in seq:\n",
    "        end = dir_pad_key_to_position[c]\n",
    "        paths = shortest_path_direction(start, end)\n",
    "        new_ans = []\n",
    "        for p in ans:\n",
    "            for p1 in paths:\n",
    "                new_ans.append(p + p1 + 'A')\n",
    "        start = end\n",
    "        ans = new_ans\n",
    "    return ans\n",
    "\n",
    "def indirection(path1):\n",
    "    path2 = []\n",
    "    for p in path1:\n",
    "        path2 += shorted_seq_direction(p)\n",
    "    min_len = min(len(p) for p in path2)\n",
    "    \n",
    "    path2 = [x for x in path2 if len(x) == min_len]\n",
    "    return path2\n",
    "\n",
    "def score(seq):\n",
    "    path1 = shorted_seq_keyboard(seq)\n",
    "    path2 = indirection(path1)\n",
    "    path3 = indirection(path2)\n",
    "\n",
    "    return len(path3[0]) * int(seq[:-1])\n",
    "\n",
    "\n",
    "def part1(input_file):\n",
    "    seqs = parse_input(input_file)\n",
    "\n",
    "    return sum(score(seq) for seq in seqs)\n",
    "\n",
    "@cache \n",
    "def recur(cur_robot, start_key, end_key, total_robots):\n",
    "    if start_key == end_key:\n",
    "        return 1\n",
    "    if cur_robot == 0:\n",
    "        start, end = num_pad_key_to_position[start_key], num_pad_key_to_position[end_key]\n",
    "        path = shortest_path_numpad(start, end)\n",
    "    else:\n",
    "        start, end = dir_pad_key_to_position[start_key], dir_pad_key_to_position[end_key]\n",
    "        path = shortest_path_direction(start, end)\n",
    "    if cur_robot == total_robots:\n",
    "        return len(path[0]) + 1\n",
    "    ans = float('inf')\n",
    "    for p in path:\n",
    "        steps = recur(cur_robot + 1, 'A', p[0], total_robots)\n",
    "        for i in range(1, len(p)):\n",
    "            steps += recur(cur_robot + 1, p[i-1], p[i], total_robots)\n",
    "        steps += recur(cur_robot + 1, p[-1], 'A', total_robots)\n",
    "        ans = min(ans, steps)\n",
    "    return ans\n",
    "\n",
    "\n",
    "def part2(input_file, total_bots):\n",
    "    seqs = parse_input(input_file)\n",
    "    ans = 0\n",
    "    for seq in seqs:\n",
    "        complexity = recur(0, 'A', seq[0], total_bots)\n",
    "        for i in range(1, len(seq)):\n",
    "            complexity += recur(0, seq[i-1], seq[i], total_bots)\n",
    "        print(seq, complexity)\n",
    "        ans += complexity * int(seq[:-1])\n",
    "    return ans"
   ]
  },
  {
   "cell_type": "code",
   "execution_count": 73,
   "metadata": {},
   "outputs": [
    {
     "data": {
      "text/plain": [
       "126384"
      ]
     },
     "execution_count": 73,
     "metadata": {},
     "output_type": "execute_result"
    }
   ],
   "source": [
    "part1('input/day21_test.txt')"
   ]
  },
  {
   "cell_type": "code",
   "execution_count": 74,
   "metadata": {},
   "outputs": [
    {
     "data": {
      "text/plain": [
       "163086"
      ]
     },
     "execution_count": 74,
     "metadata": {},
     "output_type": "execute_result"
    }
   ],
   "source": [
    "part1('input/day21.txt')"
   ]
  },
  {
   "cell_type": "code",
   "execution_count": 79,
   "metadata": {},
   "outputs": [
    {
     "name": "stdout",
     "output_type": "stream",
     "text": [
      "029A 68\n",
      "980A 60\n",
      "179A 68\n",
      "456A 64\n",
      "379A 64\n"
     ]
    },
    {
     "data": {
      "text/plain": [
       "126384"
      ]
     },
     "execution_count": 79,
     "metadata": {},
     "output_type": "execute_result"
    }
   ],
   "source": [
    "part2('input/day21_test.txt', 2)"
   ]
  },
  {
   "cell_type": "code",
   "execution_count": 81,
   "metadata": {},
   "outputs": [
    {
     "name": "stdout",
     "output_type": "stream",
     "text": [
      "286A 86475783008\n",
      "480A 90594397580\n",
      "140A 87513499934\n",
      "413A 87288844796\n",
      "964A 85006969638\n"
     ]
    },
    {
     "data": {
      "text/plain": [
       "198466286401228"
      ]
     },
     "execution_count": 81,
     "metadata": {},
     "output_type": "execute_result"
    }
   ],
   "source": [
    "part2('input/day21.txt', 25)"
   ]
  },
  {
   "cell_type": "code",
   "execution_count": null,
   "metadata": {},
   "outputs": [],
   "source": []
  }
 ],
 "metadata": {
  "kernelspec": {
   "display_name": "base",
   "language": "python",
   "name": "python3"
  },
  "language_info": {
   "codemirror_mode": {
    "name": "ipython",
    "version": 3
   },
   "file_extension": ".py",
   "mimetype": "text/x-python",
   "name": "python",
   "nbconvert_exporter": "python",
   "pygments_lexer": "ipython3",
   "version": "3.12.7"
  }
 },
 "nbformat": 4,
 "nbformat_minor": 2
}
