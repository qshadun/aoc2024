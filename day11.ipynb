{
 "cells": [
  {
   "cell_type": "code",
   "execution_count": 33,
   "metadata": {},
   "outputs": [],
   "source": [
    "from functools import cache\n",
    "\n",
    "def parse_input(input_file):\n",
    "    with open(input_file) as f:\n",
    "        for line in f:\n",
    "            return [int(x) for x in line.rstrip().split(' ')]\n",
    "\n",
    "\n",
    "def blink(nums):\n",
    "    ans = []\n",
    "    for num in nums:\n",
    "        if num == 0:\n",
    "            ans.append(1)\n",
    "        else:\n",
    "            s = str(num)\n",
    "            if len(s) % 2 == 0:\n",
    "                s1 = s[:len(s) // 2]\n",
    "                s2 = s[len(s) // 2:]\n",
    "                ans.append(int(s1))\n",
    "                ans.append(int(s2))\n",
    "            else:       \n",
    "                ans.append(num * 2024)\n",
    "    return ans\n",
    "\n",
    "def part1(input_file):\n",
    "    nums = parse_input(input_file)\n",
    "    for _ in range(25):\n",
    "        nums = blink(nums)\n",
    "    return len(nums)\n",
    "\n",
    "\n",
    "def part2(input_file):\n",
    "    nums = parse_input(input_file)\n",
    "    @cache\n",
    "    def dfs(num, times):\n",
    "        if times == 0:\n",
    "            return 1\n",
    "        else:\n",
    "            ans = 0\n",
    "            for x in blink([num]):\n",
    "                ans += dfs(x, times - 1)\n",
    "            return ans\n",
    "    ans = 0\n",
    "    for num in nums:\n",
    "        ans += dfs(num, 75)\n",
    "    return ans\n"
   ]
  },
  {
   "cell_type": "code",
   "execution_count": 34,
   "metadata": {},
   "outputs": [
    {
     "data": {
      "text/plain": [
       "55312"
      ]
     },
     "execution_count": 34,
     "metadata": {},
     "output_type": "execute_result"
    }
   ],
   "source": [
    "part1('input/day11_test.txt')"
   ]
  },
  {
   "cell_type": "code",
   "execution_count": 35,
   "metadata": {},
   "outputs": [
    {
     "data": {
      "text/plain": [
       "220722"
      ]
     },
     "execution_count": 35,
     "metadata": {},
     "output_type": "execute_result"
    }
   ],
   "source": [
    "part1('input/day11.txt')"
   ]
  },
  {
   "cell_type": "code",
   "execution_count": 36,
   "metadata": {},
   "outputs": [
    {
     "data": {
      "text/plain": [
       "65601038650482"
      ]
     },
     "execution_count": 36,
     "metadata": {},
     "output_type": "execute_result"
    }
   ],
   "source": [
    "part2('input/day11_test.txt')"
   ]
  },
  {
   "cell_type": "code",
   "execution_count": 37,
   "metadata": {},
   "outputs": [
    {
     "data": {
      "text/plain": [
       "261952051690787"
      ]
     },
     "execution_count": 37,
     "metadata": {},
     "output_type": "execute_result"
    }
   ],
   "source": [
    "part2('input/day11.txt')"
   ]
  },
  {
   "cell_type": "code",
   "execution_count": null,
   "metadata": {},
   "outputs": [],
   "source": []
  }
 ],
 "metadata": {
  "kernelspec": {
   "display_name": "base",
   "language": "python",
   "name": "python3"
  },
  "language_info": {
   "codemirror_mode": {
    "name": "ipython",
    "version": 3
   },
   "file_extension": ".py",
   "mimetype": "text/x-python",
   "name": "python",
   "nbconvert_exporter": "python",
   "pygments_lexer": "ipython3",
   "version": "3.12.7"
  }
 },
 "nbformat": 4,
 "nbformat_minor": 2
}
