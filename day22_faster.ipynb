{
 "cells": [
  {
   "cell_type": "code",
   "execution_count": 2,
   "metadata": {},
   "outputs": [],
   "source": [
    "def parse_input(input_file):\n",
    "    ans = []\n",
    "    with open(input_file) as f:\n",
    "        for line in f:\n",
    "            ans.append(int(line.rstrip()))\n",
    "    return ans\n",
    "\n",
    "def calc(secret):\n",
    "    secret = ((secret * 64) ^ secret) % 16777216\n",
    "    secret = ((secret // 32) ^ secret) % 16777216\n",
    "    return ((secret * 2048) ^ secret) % 16777216\n",
    "\n",
    "def ones(num):\n",
    "    return num % 10\n",
    "\n",
    "def calc_changes(secret):\n",
    "    nums = [secret]\n",
    "    for _ in range(2000):\n",
    "        nums.append(calc(nums[-1]))\n",
    "    prices = [num % 10 for num in nums]\n",
    "    changes = []\n",
    "    for i in range(2000):\n",
    "        changes.append(prices[i+1] - prices[i])\n",
    "    return prices, changes\n",
    "\n",
    "def pattern_to_prices(prices, changes):\n",
    "    ans = {}\n",
    "    n = len(changes)\n",
    "\n",
    "    for i in range(n-3):\n",
    "        pattern = tuple(changes[i:i+4])\n",
    "        if pattern not in ans:\n",
    "            ans[pattern] = prices[i+4]\n",
    "    return ans\n",
    "\n",
    "def part1(input_file):\n",
    "    seeds = parse_input(input_file)\n",
    "    ans = 0\n",
    "    for sec in seeds:\n",
    "        for _ in range(2000):\n",
    "            sec = calc(sec)\n",
    "        ans += sec\n",
    "    return ans\n",
    "\n",
    "def part2(input_file):\n",
    "    seeds = parse_input(input_file)\n",
    "    price_changes = [calc_changes(seed) for seed in seeds]\n",
    "    all_patterns_to_prices = [pattern_to_prices(prices, changes) for prices, changes in price_changes ]\n",
    "    all_patterns = set()\n",
    "    for pc in all_patterns_to_prices:\n",
    "        for p in pc:\n",
    "            all_patterns.add(p)\n",
    "    ans = 0\n",
    "    max_pattern = None\n",
    "    for p in all_patterns:\n",
    "        v  = sum(pc.get(p, 0) for pc in all_patterns_to_prices)\n",
    "        if v > ans:\n",
    "            ans = v\n",
    "            max_pattern = p\n",
    "    \n",
    "    return ans, max_pattern"
   ]
  },
  {
   "cell_type": "code",
   "execution_count": null,
   "metadata": {},
   "outputs": [],
   "source": [
    "prices, changes = calc_changes(123)\n",
    "pattern_to_prices(prices,changes)"
   ]
  },
  {
   "cell_type": "code",
   "execution_count": 4,
   "metadata": {},
   "outputs": [
    {
     "data": {
      "text/plain": [
       "37327623"
      ]
     },
     "execution_count": 4,
     "metadata": {},
     "output_type": "execute_result"
    }
   ],
   "source": [
    "part1('input/day22_test.txt')"
   ]
  },
  {
   "cell_type": "code",
   "execution_count": 5,
   "metadata": {},
   "outputs": [
    {
     "data": {
      "text/plain": [
       "14726157693"
      ]
     },
     "execution_count": 5,
     "metadata": {},
     "output_type": "execute_result"
    }
   ],
   "source": [
    "part1('input/day22.txt')"
   ]
  },
  {
   "cell_type": "code",
   "execution_count": 6,
   "metadata": {},
   "outputs": [
    {
     "data": {
      "text/plain": [
       "(23, (-2, 1, -1, 3))"
      ]
     },
     "execution_count": 6,
     "metadata": {},
     "output_type": "execute_result"
    }
   ],
   "source": [
    "part2('input/day22_test2.txt')"
   ]
  },
  {
   "cell_type": "code",
   "execution_count": 7,
   "metadata": {},
   "outputs": [
    {
     "data": {
      "text/plain": [
       "(1614, (-3, 2, 0, 1))"
      ]
     },
     "execution_count": 7,
     "metadata": {},
     "output_type": "execute_result"
    }
   ],
   "source": [
    "part2('input/day22.txt')"
   ]
  },
  {
   "cell_type": "code",
   "execution_count": null,
   "metadata": {},
   "outputs": [],
   "source": []
  }
 ],
 "metadata": {
  "kernelspec": {
   "display_name": "base",
   "language": "python",
   "name": "python3"
  },
  "language_info": {
   "codemirror_mode": {
    "name": "ipython",
    "version": 3
   },
   "file_extension": ".py",
   "mimetype": "text/x-python",
   "name": "python",
   "nbconvert_exporter": "python",
   "pygments_lexer": "ipython3",
   "version": "3.12.7"
  }
 },
 "nbformat": 4,
 "nbformat_minor": 2
}
