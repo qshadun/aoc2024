{
 "cells": [
  {
   "cell_type": "code",
   "execution_count": 11,
   "metadata": {},
   "outputs": [],
   "source": [
    "def part1(input_file):\n",
    "    ls1, ls2 = [], []\n",
    "    with open(input_file) as f:\n",
    "        for line in f:\n",
    "            n1, n2 = (line.split('   '))\n",
    "            ls1.append(int(n1))\n",
    "            ls2.append(int(n2.strip()))\n",
    "    ls1.sort()\n",
    "    ls2.sort()\n",
    "    ans1 = sum(abs(x-y) for x, y in zip(ls1, ls2))\n",
    "    return ans1\n"
   ]
  },
  {
   "cell_type": "code",
   "execution_count": 14,
   "metadata": {},
   "outputs": [
    {
     "data": {
      "text/plain": [
       "3246517"
      ]
     },
     "execution_count": 14,
     "metadata": {},
     "output_type": "execute_result"
    }
   ],
   "source": [
    "part1('input/day1.txt')"
   ]
  },
  {
   "cell_type": "code",
   "execution_count": 16,
   "metadata": {},
   "outputs": [],
   "source": [
    "from collections import Counter\n",
    "def part2(input_file):\n",
    "    ls1, ls2 = [], []\n",
    "    with open(input_file) as f:\n",
    "        for line in f:\n",
    "            n1, n2 = (line.split('   '))\n",
    "            ls1.append(int(n1))\n",
    "            ls2.append(int(n2.strip()))\n",
    "    ls1.sort()\n",
    "    counter = Counter(ls2)\n",
    "    ans = 0\n",
    "    for num in ls1:\n",
    "        ans += num * counter[num]\n",
    "    return ans"
   ]
  },
  {
   "cell_type": "code",
   "execution_count": 17,
   "metadata": {},
   "outputs": [
    {
     "data": {
      "text/plain": [
       "31"
      ]
     },
     "execution_count": 17,
     "metadata": {},
     "output_type": "execute_result"
    }
   ],
   "source": [
    "part2('input/day1_test.txt')"
   ]
  },
  {
   "cell_type": "code",
   "execution_count": 18,
   "metadata": {},
   "outputs": [
    {
     "data": {
      "text/plain": [
       "29379307"
      ]
     },
     "execution_count": 18,
     "metadata": {},
     "output_type": "execute_result"
    }
   ],
   "source": [
    "part2('input/day1.txt')"
   ]
  },
  {
   "cell_type": "code",
   "execution_count": null,
   "metadata": {},
   "outputs": [],
   "source": []
  }
 ],
 "metadata": {
  "kernelspec": {
   "display_name": "aiolos",
   "language": "python",
   "name": "python3"
  },
  "language_info": {
   "codemirror_mode": {
    "name": "ipython",
    "version": 3
   },
   "file_extension": ".py",
   "mimetype": "text/x-python",
   "name": "python",
   "nbconvert_exporter": "python",
   "pygments_lexer": "ipython3",
   "version": "3.12.4"
  }
 },
 "nbformat": 4,
 "nbformat_minor": 2
}
