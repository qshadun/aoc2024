{
 "cells": [
  {
   "cell_type": "code",
   "execution_count": 11,
   "metadata": {},
   "outputs": [],
   "source": [
    "def parse_input(input_file):\n",
    "    rows = []\n",
    "    with open(input_file) as f:\n",
    "        for line in f:\n",
    "            line = line.rstrip()\n",
    "            target, parts = line.split(': ')\n",
    "            rows.append((int(target), [int(x) for x in parts.split(' ')]))\n",
    "    return rows\n",
    "\n",
    "def can_do(target, parts):\n",
    "    n = len(parts)\n",
    "    def recur(i, sofar):\n",
    "        if i == n:\n",
    "            return sofar == target\n",
    "        return recur(i+1, sofar+parts[i]) or recur(i+1, sofar * parts[i])\n",
    "    return recur(1, parts[0])\n",
    "\n",
    "def part1(input_file):\n",
    "    ans = 0\n",
    "    rows = parse_input(input_file)\n",
    "    for target, parts in rows:\n",
    "        if can_do(target, parts):\n",
    "            ans += target\n",
    "    return ans\n",
    "\n",
    "def can_do2(target, parts):\n",
    "    n = len(parts)\n",
    "    def recur(i, sofar):\n",
    "        if i == n:\n",
    "            return sofar == target\n",
    "        return recur(i+1, sofar+parts[i]) or recur(i+1, sofar * parts[i]) or recur(i+1, int(str(sofar) + str(parts[i])))\n",
    "    return recur(1, parts[0])\n",
    "\n",
    "def part2(input_file):\n",
    "    ans = 0\n",
    "    rows = parse_input(input_file)\n",
    "    for target, parts in rows:\n",
    "        if can_do2(target, parts):\n",
    "            ans += target\n",
    "    return ans"
   ]
  },
  {
   "cell_type": "code",
   "execution_count": 7,
   "metadata": {},
   "outputs": [
    {
     "data": {
      "text/plain": [
       "3749"
      ]
     },
     "execution_count": 7,
     "metadata": {},
     "output_type": "execute_result"
    }
   ],
   "source": [
    "part1('input/day7_test.txt')"
   ]
  },
  {
   "cell_type": "code",
   "execution_count": 8,
   "metadata": {},
   "outputs": [
    {
     "data": {
      "text/plain": [
       "267566105056"
      ]
     },
     "execution_count": 8,
     "metadata": {},
     "output_type": "execute_result"
    }
   ],
   "source": [
    "part1('input/day7.txt')"
   ]
  },
  {
   "cell_type": "code",
   "execution_count": 10,
   "metadata": {},
   "outputs": [
    {
     "data": {
      "text/plain": [
       "7290"
      ]
     },
     "execution_count": 10,
     "metadata": {},
     "output_type": "execute_result"
    }
   ],
   "source": [
    "486*15"
   ]
  },
  {
   "cell_type": "code",
   "execution_count": 12,
   "metadata": {},
   "outputs": [
    {
     "data": {
      "text/plain": [
       "11387"
      ]
     },
     "execution_count": 12,
     "metadata": {},
     "output_type": "execute_result"
    }
   ],
   "source": [
    "part2('input/day7_test.txt')"
   ]
  },
  {
   "cell_type": "code",
   "execution_count": 13,
   "metadata": {},
   "outputs": [
    {
     "data": {
      "text/plain": [
       "116094961956019"
      ]
     },
     "execution_count": 13,
     "metadata": {},
     "output_type": "execute_result"
    }
   ],
   "source": [
    "part2('input/day7.txt')"
   ]
  },
  {
   "cell_type": "code",
   "execution_count": null,
   "metadata": {},
   "outputs": [],
   "source": []
  }
 ],
 "metadata": {
  "kernelspec": {
   "display_name": "base",
   "language": "python",
   "name": "python3"
  },
  "language_info": {
   "codemirror_mode": {
    "name": "ipython",
    "version": 3
   },
   "file_extension": ".py",
   "mimetype": "text/x-python",
   "name": "python",
   "nbconvert_exporter": "python",
   "pygments_lexer": "ipython3",
   "version": "3.12.7"
  }
 },
 "nbformat": 4,
 "nbformat_minor": 2
}
