{
 "cells": [
  {
   "cell_type": "code",
   "execution_count": 4,
   "metadata": {},
   "outputs": [],
   "source": [
    "# Register A: 63687530\n",
    "# Register B: 0\n",
    "# Register C: 0\n",
    "\n",
    "# Program: 2,4,1,3,7,5,0,3,1,5,4,1,5,5,3,0\n",
    "\n",
    "a = 0\n",
    "b = 0\n",
    "c = 0\n",
    "\n",
    "\n"
   ]
  },
  {
   "cell_type": "code",
   "execution_count": null,
   "metadata": {},
   "outputs": [],
   "source": [
    "b = a % 8\n",
    "b  ^= 3\n",
    "c = a // (2** b)\n",
    "a //= 8\n",
    "b ^= 5\n",
    "b ^= c\n",
    "print(b % 8)\n"
   ]
  },
  {
   "cell_type": "code",
   "execution_count": 76,
   "metadata": {},
   "outputs": [],
   "source": [
    "seq = [2,4,1,3,7,5,0,3,1,5,4,1,5,5,3,0]\n",
    "\n",
    "def calc(a):\n",
    "    b = (a % 8) ^ 3\n",
    "    c = a // (2**b)\n",
    "    a //= 8\n",
    "    b ^= 5\n",
    "    b ^= c\n",
    "    return a, b%8\n",
    "\n",
    "def find():\n",
    "    seq = [2,4,1,3,7,5,0,3,1,5,4,1,5,5,3,0]\n",
    "    seq = seq[::-1]\n",
    "    n = len(seq)\n",
    "    def recur(cur, pos):\n",
    "        if pos == n:\n",
    "            return cur\n",
    "        cur *= 8\n",
    "        for i in range(8):\n",
    "            if calc(cur + i)[1] == seq[pos]:\n",
    "                x = recur(cur+i, pos + 1)\n",
    "                if x:\n",
    "                    return x\n",
    "        return False\n",
    "    return recur(0, 0)"
   ]
  },
  {
   "cell_type": "code",
   "execution_count": 77,
   "metadata": {},
   "outputs": [
    {
     "data": {
      "text/plain": [
       "216148338630253"
      ]
     },
     "execution_count": 77,
     "metadata": {},
     "output_type": "execute_result"
    }
   ],
   "source": [
    "find()"
   ]
  },
  {
   "cell_type": "code",
   "execution_count": null,
   "metadata": {},
   "outputs": [],
   "source": []
  }
 ],
 "metadata": {
  "kernelspec": {
   "display_name": "base",
   "language": "python",
   "name": "python3"
  },
  "language_info": {
   "codemirror_mode": {
    "name": "ipython",
    "version": 3
   },
   "file_extension": ".py",
   "mimetype": "text/x-python",
   "name": "python",
   "nbconvert_exporter": "python",
   "pygments_lexer": "ipython3",
   "version": "3.12.7"
  }
 },
 "nbformat": 4,
 "nbformat_minor": 2
}
