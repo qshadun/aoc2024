{
 "cells": [
  {
   "cell_type": "code",
   "execution_count": 32,
   "metadata": {},
   "outputs": [],
   "source": [
    "directions = {\n",
    "    '^': (-1, 0),\n",
    "    'v': (1, 0),\n",
    "    '<': (0, -1),\n",
    "    '>': (0, 1)\n",
    "}\n",
    "\n",
    "def parse_input(input_file):\n",
    "    grid = []\n",
    "    moves = ''\n",
    "    after_blank = False\n",
    "    with open(input_file) as f:\n",
    "        for line in f:\n",
    "            line = line.rstrip()\n",
    "            if not line:\n",
    "                after_blank = True\n",
    "            else:\n",
    "                if not after_blank:\n",
    "                    row = [c for c in line]\n",
    "                    grid.append(row)\n",
    "                else:\n",
    "                    moves += line\n",
    "    \n",
    "    return grid, moves\n",
    "\n",
    "def calc_score(r, c):\n",
    "    return r * 100 + c\n",
    "\n",
    "def find_bot(grid):\n",
    "    m, n = len(grid), len(grid[0])\n",
    "    for r in range(m):\n",
    "        for c in range(n):\n",
    "            if grid[r][c] == '@':\n",
    "                return r, c\n",
    "\n",
    "def print_grid(grid):\n",
    "    for row in grid:\n",
    "        print(''.join(row))\n",
    "\n",
    "def part1(input_file):\n",
    "    grid, moves = parse_input(input_file)\n",
    "    br, bc = find_bot(grid)\n",
    "    for mv in moves:\n",
    "        dr, dc = directions[mv]\n",
    "        nr, nc = br + dr, bc + dc\n",
    "        if grid[nr][nc] == '.':\n",
    "            grid[br][bc] = '.'\n",
    "            grid[nr][nc] = '@'\n",
    "            br, bc = nr, nc\n",
    "        elif grid[nr][nc] == '#':\n",
    "            continue\n",
    "        else:\n",
    "            er, ec = nr + dr, nc + dc\n",
    "            while grid[er][ec] == 'O':\n",
    "                er += dr\n",
    "                ec += dc\n",
    "            if grid[er][ec] == '#':\n",
    "                continue\n",
    "            else:\n",
    "                while er != nr or ec != nc:\n",
    "                    grid[er][ec] = 'O'\n",
    "                    er -= dr\n",
    "                    ec -= dc\n",
    "                grid[br][bc] = '.'\n",
    "                grid[nr][nc] = '@'\n",
    "                br, bc = nr, nc\n",
    "        \n",
    "    ans = 0\n",
    "    m, n = len(grid), len(grid[0])\n",
    "    for r in range(m):\n",
    "        for c in range(n):\n",
    "            if grid[r][c] == 'O':\n",
    "                ans += calc_score(r, c)\n",
    "    return ans\n",
    "\n",
    "def transform_grid(grid):\n",
    "    ans = []\n",
    "    for row in grid:\n",
    "        new_row = []\n",
    "        for c in row:\n",
    "            if c =='@':\n",
    "                new_row.append('@')\n",
    "                new_row.append('.')\n",
    "            elif c == 'O':\n",
    "                new_row.append('[')\n",
    "                new_row.append(']')\n",
    "            else:\n",
    "                new_row.append(c)\n",
    "                new_row.append(c)\n",
    "        ans.append(new_row)\n",
    "    return ans\n",
    "\n",
    "def part2(input_file):\n",
    "    grid, moves = parse_input(input_file)\n",
    "    grid = transform_grid(grid)\n",
    "    # print_grid(grid)\n",
    "    br, bc = find_bot(grid)\n",
    "    for mv in moves:\n",
    "        dr, dc = directions[mv]\n",
    "        nr, nc = br + dr, bc + dc\n",
    "        if grid[nr][nc] == '.':\n",
    "            grid[br][bc] = '.'\n",
    "            grid[nr][nc] = '@'\n",
    "            br, bc = nr, nc\n",
    "        elif grid[nr][nc] == '#':\n",
    "            continue\n",
    "        else:\n",
    "            if mv in '<>':\n",
    "                er, ec = nr + dr, nc + dc\n",
    "                while grid[er][ec] in '[]':\n",
    "                    er += dr\n",
    "                    ec += dc\n",
    "                if grid[er][ec] == '#':\n",
    "                    continue\n",
    "                else:\n",
    "                    while er != nr or ec != nc:\n",
    "                        grid[er][ec] = grid[er-dr][ec-dc]\n",
    "                        er -= dr\n",
    "                        ec -= dc\n",
    "                    grid[br][bc] = '.'\n",
    "                    grid[nr][nc] = '@'\n",
    "                    br, bc = nr, nc\n",
    "            else:\n",
    "                to_push = []\n",
    "                if grid[nr][nc] == '[':\n",
    "                    to_push.append([(nr, nc), (nr, nc+1)])\n",
    "                else:\n",
    "                    to_push.append([(nr, nc-1), (nr, nc)])\n",
    "                blocked = False\n",
    "                while True:\n",
    "                    new_row = []\n",
    "                    for r, c in to_push[-1]:\n",
    "                        rr, cc = r + dr, c\n",
    "                        if new_row and new_row[-1] == (rr, cc):\n",
    "                            continue\n",
    "                        if grid[rr][cc] == '#':\n",
    "                            blocked = True\n",
    "                            break\n",
    "                        elif grid[rr][cc] in '[]':\n",
    "                            new_row.append((rr, cc))\n",
    "                            if grid[rr][cc] == '[':\n",
    "                                new_row.append((rr, cc + 1))\n",
    "                            else:\n",
    "                                if not new_row or new_row[-1] != (rr, cc-1):\n",
    "                                    new_row.pop()\n",
    "                                    new_row.append((rr, cc - 1))\n",
    "                                    new_row.append((rr, cc))\n",
    "                    if not new_row:\n",
    "                        break\n",
    "                    \n",
    "                    to_push.append(new_row)\n",
    "                if blocked:\n",
    "                    continue\n",
    "                for row in to_push[::-1]:\n",
    "                    for r, c in row:\n",
    "                        grid[r+dr][c] = grid[r][c]\n",
    "                        grid[r][c] = '.'\n",
    "                grid[br][bc] = '.'\n",
    "                grid[nr][nc] = '@'\n",
    "                br, bc = nr, nc\n",
    "        \n",
    "    ans = 0\n",
    "    m, n = len(grid), len(grid[0])\n",
    "    for r in range(m):\n",
    "        for c in range(n):\n",
    "            if grid[r][c] =='[':\n",
    "                ans += calc_score(r, c)\n",
    "    return ans\n"
   ]
  },
  {
   "cell_type": "code",
   "execution_count": 33,
   "metadata": {},
   "outputs": [
    {
     "data": {
      "text/plain": [
       "10092"
      ]
     },
     "execution_count": 33,
     "metadata": {},
     "output_type": "execute_result"
    }
   ],
   "source": [
    "part1('input/day15_test.txt')"
   ]
  },
  {
   "cell_type": "code",
   "execution_count": 34,
   "metadata": {},
   "outputs": [
    {
     "data": {
      "text/plain": [
       "1415498"
      ]
     },
     "execution_count": 34,
     "metadata": {},
     "output_type": "execute_result"
    }
   ],
   "source": [
    "part1('input/day15.txt')"
   ]
  },
  {
   "cell_type": "code",
   "execution_count": 35,
   "metadata": {},
   "outputs": [
    {
     "data": {
      "text/plain": [
       "9021"
      ]
     },
     "execution_count": 35,
     "metadata": {},
     "output_type": "execute_result"
    }
   ],
   "source": [
    "part2('input/day15_test.txt')"
   ]
  },
  {
   "cell_type": "code",
   "execution_count": 36,
   "metadata": {},
   "outputs": [
    {
     "data": {
      "text/plain": [
       "1432898"
      ]
     },
     "execution_count": 36,
     "metadata": {},
     "output_type": "execute_result"
    }
   ],
   "source": [
    "part2('input/day15.txt')"
   ]
  },
  {
   "cell_type": "code",
   "execution_count": null,
   "metadata": {},
   "outputs": [],
   "source": []
  }
 ],
 "metadata": {
  "kernelspec": {
   "display_name": "base",
   "language": "python",
   "name": "python3"
  },
  "language_info": {
   "codemirror_mode": {
    "name": "ipython",
    "version": 3
   },
   "file_extension": ".py",
   "mimetype": "text/x-python",
   "name": "python",
   "nbconvert_exporter": "python",
   "pygments_lexer": "ipython3",
   "version": "3.12.7"
  }
 },
 "nbformat": 4,
 "nbformat_minor": 2
}
