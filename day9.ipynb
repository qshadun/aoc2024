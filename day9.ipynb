{
 "cells": [
  {
   "cell_type": "code",
   "execution_count": 27,
   "metadata": {},
   "outputs": [],
   "source": [
    "from collections import defaultdict\n",
    "\n",
    "def parse_input(input_file):\n",
    "    with open(input_file) as f:\n",
    "        for line in f:\n",
    "            line = line.rstrip()\n",
    "            return line\n",
    "\n",
    "def expand(line):\n",
    "    ans = []\n",
    "    id = 0\n",
    "    for i, c in enumerate(line):\n",
    "        if i % 2 == 0:\n",
    "            ans += [id] * int(c)\n",
    "            id += 1\n",
    "        else:\n",
    "            ans += ['.'] * int(c)\n",
    "    return ans\n",
    "\n",
    "\n",
    "def part1(input_file):\n",
    "    line = parse_input(input_file)\n",
    "    line = expand(line)\n",
    "    # print(''.join(str(x) for x in line))\n",
    "    lo, hi = 0, len(line) - 1\n",
    "    ans = 0\n",
    "    while lo <= hi:\n",
    "        if line[lo] != '.':\n",
    "            ans += lo * line[lo]\n",
    "            lo += 1\n",
    "        else:\n",
    "            while line[hi] == '.':\n",
    "                hi -= 1\n",
    "            if hi > lo:\n",
    "                line[lo] = line[hi]\n",
    "                line[hi] = '.'\n",
    "            else:\n",
    "                break\n",
    "    return ans\n",
    "            \n",
    "\n",
    "def expand2(line):\n",
    "    ans = []\n",
    "    id = 0\n",
    "    for i, c in enumerate(line):\n",
    "        if i % 2 == 0:\n",
    "            ans.append([id, int(c)])\n",
    "            id += 1\n",
    "        else:\n",
    "            ans.append(['.', int(c)])\n",
    "    return ans\n",
    "\n",
    "def part2(input_file):\n",
    "    line = parse_input(input_file)\n",
    "    line = expand2(line)\n",
    "    hi = len(line) - 1\n",
    "    while hi > 0:\n",
    "        if line[hi][0] == '.':\n",
    "            hi -= 1\n",
    "        id, sz = line[hi]\n",
    "        moved = False\n",
    "        for i in range(hi):\n",
    "            if line[i][0] == '.' and line[i][1] >= sz:\n",
    "                if line[i][1] > sz:\n",
    "                    line[i][1] -= sz\n",
    "                    line.insert(i, [id, sz])\n",
    "                    line[hi+1][0] = '.'\n",
    "                else:\n",
    "                    line[i][0] = id\n",
    "                    line[hi][0] = '.'\n",
    "                    hi -= 1\n",
    "                moved = True\n",
    "                break\n",
    "        if not moved:\n",
    "            hi -= 1\n",
    "    \n",
    "    ans = 0\n",
    "    pos = 0\n",
    "    for id, sz in line:\n",
    "        if id != '.':\n",
    "            ans += (pos + pos + sz-1) * sz // 2 * id\n",
    "        pos += sz\n",
    "    return ans\n"
   ]
  },
  {
   "cell_type": "code",
   "execution_count": 21,
   "metadata": {},
   "outputs": [
    {
     "data": {
      "text/plain": [
       "1928"
      ]
     },
     "execution_count": 21,
     "metadata": {},
     "output_type": "execute_result"
    }
   ],
   "source": [
    "part1('input/day9_test.txt')"
   ]
  },
  {
   "cell_type": "code",
   "execution_count": 15,
   "metadata": {},
   "outputs": [
    {
     "data": {
      "text/plain": [
       "6288599492129"
      ]
     },
     "execution_count": 15,
     "metadata": {},
     "output_type": "execute_result"
    }
   ],
   "source": [
    "part1('input/day9.txt')"
   ]
  },
  {
   "cell_type": "code",
   "execution_count": 28,
   "metadata": {},
   "outputs": [
    {
     "data": {
      "text/plain": [
       "2858"
      ]
     },
     "execution_count": 28,
     "metadata": {},
     "output_type": "execute_result"
    }
   ],
   "source": [
    "part2('input/day9_test.txt')"
   ]
  },
  {
   "cell_type": "code",
   "execution_count": 29,
   "metadata": {},
   "outputs": [
    {
     "data": {
      "text/plain": [
       "6321896265143"
      ]
     },
     "execution_count": 29,
     "metadata": {},
     "output_type": "execute_result"
    }
   ],
   "source": [
    "part2('input/day9.txt')"
   ]
  },
  {
   "cell_type": "code",
   "execution_count": null,
   "metadata": {},
   "outputs": [],
   "source": []
  }
 ],
 "metadata": {
  "kernelspec": {
   "display_name": "base",
   "language": "python",
   "name": "python3"
  },
  "language_info": {
   "codemirror_mode": {
    "name": "ipython",
    "version": 3
   },
   "file_extension": ".py",
   "mimetype": "text/x-python",
   "name": "python",
   "nbconvert_exporter": "python",
   "pygments_lexer": "ipython3",
   "version": "3.12.7"
  }
 },
 "nbformat": 4,
 "nbformat_minor": 2
}
