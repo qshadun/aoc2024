{
 "cells": [
  {
   "cell_type": "code",
   "execution_count": 1,
   "metadata": {},
   "outputs": [],
   "source": [
    "from collections import defaultdict\n",
    "\n",
    "def parse_input(input_file):\n",
    "    grid = []\n",
    "    with open(input_file) as f:\n",
    "        for line in f:\n",
    "            line = line.rstrip()\n",
    "            grid.append([c for c in line])\n",
    "    return grid\n",
    "\n",
    "def find_start(grid):\n",
    "    m, n = len(grid), len(grid[0])\n",
    "    for i in range(m):\n",
    "        for j in range(n):\n",
    "            if grid[i][j] == '^':\n",
    "                return (i, j)\n",
    "\n",
    "chars = ['^', '>', 'v', '<']\n",
    "directions = [(-1, 0), (0, 1), (1, 0), (0, -1)]\n",
    "\n",
    "moves = {x: y for x, y in zip(chars, directions)}\n",
    "\n",
    "def part1(input_file):\n",
    "    grid = parse_input(input_file)\n",
    "    start = find_start(grid)\n",
    "    m, n = len(grid), len(grid[0])\n",
    "    cur = start\n",
    "    while True:\n",
    "        i, j = cur\n",
    "        di, dj = moves[grid[i][j]]\n",
    "        ni, nj = i + di, j + dj\n",
    "        if not(0 <= ni < m and 0 <= nj < n):\n",
    "            break\n",
    "        if grid[ni][nj] != '#':\n",
    "            grid[ni][nj] = grid[i][j]\n",
    "            cur = (ni, nj)\n",
    "        else:\n",
    "            idx = chars.index(grid[i][j])\n",
    "            grid[i][j] = chars[(idx+ 1)%4]\n",
    "    ans = 0\n",
    "    for i in range(m):\n",
    "        for j in range(n):\n",
    "            if grid[i][j] not in '.#':\n",
    "                ans += 1\n",
    "    return ans\n",
    "    \n"
   ]
  },
  {
   "cell_type": "code",
   "execution_count": 5,
   "metadata": {},
   "outputs": [
    {
     "data": {
      "text/plain": [
       "41"
      ]
     },
     "execution_count": 5,
     "metadata": {},
     "output_type": "execute_result"
    }
   ],
   "source": [
    "part1('input/day6_test.txt')"
   ]
  },
  {
   "cell_type": "code",
   "execution_count": 6,
   "metadata": {},
   "outputs": [
    {
     "data": {
      "text/plain": [
       "4665"
      ]
     },
     "execution_count": 6,
     "metadata": {},
     "output_type": "execute_result"
    }
   ],
   "source": [
    "part1('input/day6.txt')"
   ]
  },
  {
   "cell_type": "code",
   "execution_count": 14,
   "metadata": {},
   "outputs": [],
   "source": [
    "chars = ['^', '>', 'v', '<']\n",
    "directions = [(-1, 0), (0, 1), (1, 0), (0, -1)]\n",
    "\n",
    "moves = {x: y for x, y in zip(chars, directions)}\n",
    "\n",
    "def copy_grid(grid):\n",
    "    ans = []\n",
    "    for row in grid:\n",
    "        ans.append(row.copy())\n",
    "    return ans\n",
    "\n",
    "def mark_grid(grid, start):\n",
    "    cur = start\n",
    "    m, n = len(grid), len(grid[0])\n",
    "    while True:\n",
    "        i, j = cur\n",
    "        di, dj = moves[grid[i][j]]\n",
    "        ni, nj = i + di, j + dj\n",
    "        if not(0 <= ni < m and 0 <= nj < n):\n",
    "            break\n",
    "        if grid[ni][nj] != '#':\n",
    "            grid[ni][nj] = grid[i][j]\n",
    "            cur = (ni, nj)\n",
    "        else:\n",
    "            idx = chars.index(grid[i][j])\n",
    "            grid[i][j] = chars[(idx+ 1)%4]\n",
    "\n",
    "def explore(grid, start):\n",
    "    cur = start\n",
    "    m, n = len(grid), len(grid[0])\n",
    "    cur_d = '^'\n",
    "    grid[start[0]][start[1]] = '|'\n",
    "    steps = 0\n",
    "    while True:\n",
    "        i, j = cur\n",
    "        di, dj = moves[cur_d]\n",
    "        ni, nj = i + di, j + dj\n",
    "        if not(0 <= ni < m and 0 <= nj < n):\n",
    "            return False\n",
    "        if grid[ni][nj] !=  '#':\n",
    "            steps += 1\n",
    "            if steps > m * n:\n",
    "                return True\n",
    "            if cur_d in '^v':\n",
    "                if grid[ni][nj] in '.':\n",
    "                    grid[ni][nj] = '|'\n",
    "                elif grid[ni][nj] == '-':\n",
    "                    grid[ni][nj] = '+'\n",
    "            else:\n",
    "                if grid[ni][nj] == '.':\n",
    "                    grid[ni][nj] = '-'\n",
    "                elif grid[ni][nj] == '|':\n",
    "                    grid[ni][nj] = '+'\n",
    "            cur = (ni, nj)\n",
    "        else:\n",
    "            idx = chars.index(cur_d)\n",
    "            cur_d = chars[(idx+ 1)%4]\n",
    "            grid[i][j] = '+'\n",
    "\n",
    "def part2(input_file):\n",
    "    grid = parse_input(input_file)\n",
    "    start = find_start(grid)\n",
    "    ans = 0\n",
    "    m, n = len(grid), len(grid[0])\n",
    "    marked_grid = copy_grid(grid)\n",
    "    mark_grid(marked_grid,start)\n",
    "    for i in range(m):\n",
    "        for j in range(n):\n",
    "            if (i, j) == start:\n",
    "                continue\n",
    "            \n",
    "            if marked_grid[i][j] in moves:\n",
    "                new_grid = copy_grid(grid)\n",
    "                new_grid[i][j] = '#'\n",
    "                if explore(new_grid, start):\n",
    "                    ans += 1\n",
    "    return ans\n",
    "\n",
    "def print_grid(grid):\n",
    "    for row in grid:\n",
    "        print(''.join(row))"
   ]
  },
  {
   "cell_type": "code",
   "execution_count": 15,
   "metadata": {},
   "outputs": [
    {
     "data": {
      "text/plain": [
       "6"
      ]
     },
     "execution_count": 15,
     "metadata": {},
     "output_type": "execute_result"
    }
   ],
   "source": [
    "part2('input/day6_test.txt')"
   ]
  },
  {
   "cell_type": "code",
   "execution_count": 16,
   "metadata": {},
   "outputs": [
    {
     "data": {
      "text/plain": [
       "1688"
      ]
     },
     "execution_count": 16,
     "metadata": {},
     "output_type": "execute_result"
    }
   ],
   "source": [
    "part2('input/day6.txt')"
   ]
  },
  {
   "cell_type": "code",
   "execution_count": null,
   "metadata": {},
   "outputs": [],
   "source": []
  }
 ],
 "metadata": {
  "kernelspec": {
   "display_name": "base",
   "language": "python",
   "name": "python3"
  },
  "language_info": {
   "codemirror_mode": {
    "name": "ipython",
    "version": 3
   },
   "file_extension": ".py",
   "mimetype": "text/x-python",
   "name": "python",
   "nbconvert_exporter": "python",
   "pygments_lexer": "ipython3",
   "version": "3.12.7"
  }
 },
 "nbformat": 4,
 "nbformat_minor": 2
}
