{
 "cells": [
  {
   "cell_type": "code",
   "execution_count": 32,
   "metadata": {},
   "outputs": [],
   "source": [
    "import heapq\n",
    "\n",
    "directions = [(0, 1), (1, 0), (0, -1), (-1, 0)]\n",
    "INF = float('inf')\n",
    "\n",
    "def parse_input(input_file):\n",
    "    grid = []\n",
    "    with open(input_file) as f:\n",
    "        for line in f:\n",
    "            line = line.rstrip()\n",
    "            row = [c for c in line]\n",
    "            grid.append(row)\n",
    "    \n",
    "    return grid\n",
    "\n",
    "\n",
    "def find_start(grid):\n",
    "    m, n = len(grid), len(grid[0])\n",
    "    for r in range(m):\n",
    "        for c in range(n):\n",
    "            if grid[r][c] == 'S':\n",
    "                return r, c\n",
    "            \n",
    "def print_grid(grid):\n",
    "    for row in grid:\n",
    "        print(''.join(row))\n",
    "\n",
    "def part1(input_file):\n",
    "    grid = parse_input(input_file)\n",
    "    start = find_start(grid)\n",
    "    dist = {(start, 0): 0}\n",
    "    hp = [(0, start, 0)]\n",
    "    while hp:\n",
    "        cur_d, cur_pos, face = heapq.heappop(hp)\n",
    "        if cur_d > dist[(cur_pos, face)]:\n",
    "            continue\n",
    "        if grid[cur_pos[0]][cur_pos[1]] == 'E':\n",
    "            return cur_d\n",
    "        x, y = cur_pos\n",
    "        dx, dy = directions[face]\n",
    "        nx, ny = x + dx, y + dy\n",
    "        if grid[nx][ny] != '#' and dist.get(((nx, ny), face), INF) > cur_d + 1:\n",
    "            dist[((nx, ny), face)] = cur_d + 1\n",
    "            heapq.heappush(hp, (cur_d+1, (nx, ny), face))\n",
    "        left_turn = (face +3) % 4\n",
    "        if dist.get((cur_pos, left_turn), INF) > cur_d + 1000:\n",
    "            dist[(cur_pos, left_turn)] = cur_d + 1000\n",
    "            heapq.heappush(hp, (cur_d + 1000, cur_pos, left_turn))\n",
    "\n",
    "        right_turn = (face + 1) % 4\n",
    "        if dist.get((cur_pos, right_turn), INF) > cur_d + 1000:\n",
    "            dist[(cur_pos, right_turn)] = cur_d + 1000\n",
    "            heapq.heappush(hp, (cur_d + 1000, cur_pos, right_turn))\n",
    "\n",
    "\n",
    "\n",
    "def part2(input_file):\n",
    "    grid = parse_input(input_file)\n",
    "    start = find_start(grid)\n",
    "    dist = {(start, 0): 0}\n",
    "    hp = [(0, start, 0, [start])]\n",
    "    best_score = INF\n",
    "    tiles = set()\n",
    "    while hp:\n",
    "        cur_d, cur_pos, face, path = heapq.heappop(hp)\n",
    "        if cur_d > best_score:\n",
    "            break\n",
    "        if cur_d > dist[(cur_pos, face)]:\n",
    "            continue\n",
    "        if grid[cur_pos[0]][cur_pos[1]] == 'E':\n",
    "            best_score = cur_d\n",
    "            for p in path:\n",
    "                tiles.add(p)\n",
    "        x, y = cur_pos\n",
    "        dx, dy = directions[face]\n",
    "        nx, ny = x + dx, y + dy\n",
    "        if grid[nx][ny] != '#' and dist.get(((nx, ny), face), INF) >= cur_d + 1:\n",
    "            dist[((nx, ny), face)] = cur_d + 1\n",
    "            heapq.heappush(hp, (cur_d+1, (nx, ny), face, path+[(nx, ny)]))\n",
    "        left_turn = (face +3) % 4\n",
    "        if dist.get((cur_pos, left_turn), INF) >= cur_d + 1000:\n",
    "            dist[(cur_pos, left_turn)] = cur_d + 1000\n",
    "            heapq.heappush(hp, (cur_d + 1000, cur_pos, left_turn, path[:]))\n",
    "\n",
    "        right_turn = (face + 1) % 4\n",
    "        if dist.get((cur_pos, right_turn), INF) >= cur_d + 1000:\n",
    "            dist[(cur_pos, right_turn)] = cur_d + 1000\n",
    "            heapq.heappush(hp, (cur_d + 1000, cur_pos, right_turn, path[:]))\n",
    "    return len(tiles)"
   ]
  },
  {
   "cell_type": "code",
   "execution_count": 33,
   "metadata": {},
   "outputs": [
    {
     "data": {
      "text/plain": [
       "7036"
      ]
     },
     "execution_count": 33,
     "metadata": {},
     "output_type": "execute_result"
    }
   ],
   "source": [
    "part1('input/day16_test.txt')"
   ]
  },
  {
   "cell_type": "code",
   "execution_count": 34,
   "metadata": {},
   "outputs": [
    {
     "data": {
      "text/plain": [
       "11048"
      ]
     },
     "execution_count": 34,
     "metadata": {},
     "output_type": "execute_result"
    }
   ],
   "source": [
    "part1('input/day16_test2.txt')"
   ]
  },
  {
   "cell_type": "code",
   "execution_count": 35,
   "metadata": {},
   "outputs": [
    {
     "data": {
      "text/plain": [
       "85480"
      ]
     },
     "execution_count": 35,
     "metadata": {},
     "output_type": "execute_result"
    }
   ],
   "source": [
    "part1('input/day16.txt')"
   ]
  },
  {
   "cell_type": "code",
   "execution_count": 36,
   "metadata": {},
   "outputs": [
    {
     "data": {
      "text/plain": [
       "45"
      ]
     },
     "execution_count": 36,
     "metadata": {},
     "output_type": "execute_result"
    }
   ],
   "source": [
    "part2('input/day16_test.txt')"
   ]
  },
  {
   "cell_type": "code",
   "execution_count": 37,
   "metadata": {},
   "outputs": [
    {
     "data": {
      "text/plain": [
       "518"
      ]
     },
     "execution_count": 37,
     "metadata": {},
     "output_type": "execute_result"
    }
   ],
   "source": [
    "part2('input/day16.txt')"
   ]
  }
 ],
 "metadata": {
  "kernelspec": {
   "display_name": "base",
   "language": "python",
   "name": "python3"
  },
  "language_info": {
   "codemirror_mode": {
    "name": "ipython",
    "version": 3
   },
   "file_extension": ".py",
   "mimetype": "text/x-python",
   "name": "python",
   "nbconvert_exporter": "python",
   "pygments_lexer": "ipython3",
   "version": "3.12.7"
  }
 },
 "nbformat": 4,
 "nbformat_minor": 2
}
