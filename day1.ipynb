{
 "cells": [
  {
   "cell_type": "code",
   "execution_count": 38,
   "metadata": {},
   "outputs": [],
   "source": [
    "import re\n",
    "\n",
    "def part1(input_file):\n",
    "    ls1, ls2 = [], []\n",
    "    with open(input_file) as f:\n",
    "        for line in f:\n",
    "            n1, n2 = (re.split(r'\\W+', line.rstrip()))\n",
    "            ls1.append(int(n1))\n",
    "            ls2.append(int(n2))\n",
    "    ls1.sort()\n",
    "    ls2.sort()\n",
    "    ans1 = sum(abs(x-y) for x, y in zip(ls1, ls2))\n",
    "    return ans1\n"
   ]
  },
  {
   "cell_type": "code",
   "execution_count": 39,
   "metadata": {},
   "outputs": [
    {
     "data": {
      "text/plain": [
       "3246517"
      ]
     },
     "execution_count": 39,
     "metadata": {},
     "output_type": "execute_result"
    }
   ],
   "source": [
    "part1('input/day1.txt')"
   ]
  },
  {
   "cell_type": "code",
   "execution_count": 40,
   "metadata": {},
   "outputs": [],
   "source": [
    "from collections import Counter\n",
    "def part2(input_file):\n",
    "    ls1, ls2 = [], []\n",
    "    with open(input_file) as f:\n",
    "        for line in f:\n",
    "            n1, n2 = (re.split(r'\\W+', line.rstrip()))\n",
    "            ls1.append(int(n1))\n",
    "            ls2.append(int(n2))\n",
    "    ls1.sort()\n",
    "    counter = Counter(ls2)\n",
    "    ans = 0\n",
    "    for num in ls1:\n",
    "        ans += num * counter[num]\n",
    "    return ans"
   ]
  },
  {
   "cell_type": "code",
   "execution_count": 41,
   "metadata": {},
   "outputs": [
    {
     "data": {
      "text/plain": [
       "31"
      ]
     },
     "execution_count": 41,
     "metadata": {},
     "output_type": "execute_result"
    }
   ],
   "source": [
    "part2('input/day1_test.txt')"
   ]
  },
  {
   "cell_type": "code",
   "execution_count": 42,
   "metadata": {},
   "outputs": [
    {
     "data": {
      "text/plain": [
       "29379307"
      ]
     },
     "execution_count": 42,
     "metadata": {},
     "output_type": "execute_result"
    }
   ],
   "source": [
    "part2('input/day1.txt')"
   ]
  }
 ],
 "metadata": {
  "kernelspec": {
   "display_name": "aiolos",
   "language": "python",
   "name": "python3"
  },
  "language_info": {
   "codemirror_mode": {
    "name": "ipython",
    "version": 3
   },
   "file_extension": ".py",
   "mimetype": "text/x-python",
   "name": "python",
   "nbconvert_exporter": "python",
   "pygments_lexer": "ipython3",
   "version": "3.12.4"
  }
 },
 "nbformat": 4,
 "nbformat_minor": 2
}
