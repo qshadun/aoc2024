{
 "cells": [
  {
   "cell_type": "code",
   "execution_count": 24,
   "metadata": {},
   "outputs": [],
   "source": [
    "from collections import defaultdict\n",
    "\n",
    "def parse_input(input_file):\n",
    "    grid = []\n",
    "    with open(input_file) as f:\n",
    "        for line in f:\n",
    "            line = line.rstrip()\n",
    "            grid.append([c for c in line])\n",
    "    return grid\n",
    "\n",
    "def collect_freq(grid):\n",
    "    m, n = len(grid), len(grid[0])\n",
    "    ans = defaultdict(list)\n",
    "    for i in range(m):\n",
    "        for j in range(n):\n",
    "            if grid[i][j] != '.':\n",
    "                ans[grid[i][j]].append((i, j))\n",
    "    return ans\n",
    "\n",
    "\n",
    "def count_anti_node(nodes, m, n):\n",
    "    ans = set()\n",
    "    if len(nodes) < 2:\n",
    "        return ans\n",
    "    for i in range(len(nodes) - 1):\n",
    "        for j in range(i+1, len(nodes)):\n",
    "            x1, y1 = nodes[i]\n",
    "            x2, y2 = nodes[j]\n",
    "            i1 = 2 * x1 - x2\n",
    "            i2 = 2 * x2 - x1\n",
    "            j1 = 2 * y1 - y2\n",
    "            j2 = 2 * y2 - y1\n",
    "            if 0 <= i1 < m and 0 <= j1 < n:\n",
    "                # print(i1, j1, x1, y1, x2, y2)\n",
    "                ans.add((i1, j1))\n",
    "            if 0 <= i2 < m and 0 <= j2 < n:\n",
    "                # print(i2, j2, x1, y1, x2, y2)\n",
    "                ans.add((i2, j2))\n",
    "    return ans\n",
    "\n",
    "\n",
    "def part1(input_file):\n",
    "    ans = 0\n",
    "    grid = parse_input(input_file)\n",
    "    m, n = len(grid), len(grid[0])\n",
    "    freqs = collect_freq(grid)\n",
    "    # print(freqs)\n",
    "    ans = set()\n",
    "    for nodes in freqs.values():\n",
    "        ans.update(count_anti_node(nodes, m, n))\n",
    "    # print(ans)\n",
    "    return len(ans)\n",
    "\n",
    "def count_anti_node2(nodes, m, n):\n",
    "    ans = set()\n",
    "    if len(nodes) < 2:\n",
    "        return ans\n",
    "    for i in range(len(nodes) - 1):\n",
    "        for j in range(i+1, len(nodes)):\n",
    "            x1, y1 = nodes[i]\n",
    "            x2, y2 = nodes[j]\n",
    "            ans.update(find(x1, y1, x2, y2, m, n))\n",
    "            ans.update(find(x2, y2, x1, y1, m, n))\n",
    "    return ans\n",
    "\n",
    "def find(x1, y1, x2, y2, m, n):\n",
    "    dx = x2 - x1\n",
    "    dy = y2 - y1\n",
    "    ans = set()\n",
    "    x, y = x1 + dx, y1 + dy\n",
    "    while 0 <= x < m and 0 <= y < n:\n",
    "        ans.add((x, y))\n",
    "        x += dx\n",
    "        y += dy\n",
    "    return ans\n",
    "\n",
    "def part2(input_file):\n",
    "    ans = 0\n",
    "    grid = parse_input(input_file)\n",
    "    m, n = len(grid), len(grid[0])\n",
    "    freqs = collect_freq(grid)\n",
    "    # print(freqs)\n",
    "    ans = set()\n",
    "    for nodes in freqs.values():\n",
    "        ans.update(count_anti_node2(nodes, m, n))\n",
    "    # print(ans)\n",
    "    return len(ans)"
   ]
  },
  {
   "cell_type": "code",
   "execution_count": 20,
   "metadata": {},
   "outputs": [
    {
     "data": {
      "text/plain": [
       "14"
      ]
     },
     "execution_count": 20,
     "metadata": {},
     "output_type": "execute_result"
    }
   ],
   "source": [
    "part1('input/day8_test.txt')"
   ]
  },
  {
   "cell_type": "code",
   "execution_count": 21,
   "metadata": {},
   "outputs": [
    {
     "data": {
      "text/plain": [
       "313"
      ]
     },
     "execution_count": 21,
     "metadata": {},
     "output_type": "execute_result"
    }
   ],
   "source": [
    "part1('input/day8.txt')"
   ]
  },
  {
   "cell_type": "code",
   "execution_count": 25,
   "metadata": {},
   "outputs": [
    {
     "data": {
      "text/plain": [
       "34"
      ]
     },
     "execution_count": 25,
     "metadata": {},
     "output_type": "execute_result"
    }
   ],
   "source": [
    "part2('input/day8_test.txt')"
   ]
  },
  {
   "cell_type": "code",
   "execution_count": 26,
   "metadata": {},
   "outputs": [
    {
     "data": {
      "text/plain": [
       "1064"
      ]
     },
     "execution_count": 26,
     "metadata": {},
     "output_type": "execute_result"
    }
   ],
   "source": [
    "part2('input/day8.txt')"
   ]
  },
  {
   "cell_type": "code",
   "execution_count": null,
   "metadata": {},
   "outputs": [],
   "source": []
  }
 ],
 "metadata": {
  "kernelspec": {
   "display_name": "base",
   "language": "python",
   "name": "python3"
  },
  "language_info": {
   "codemirror_mode": {
    "name": "ipython",
    "version": 3
   },
   "file_extension": ".py",
   "mimetype": "text/x-python",
   "name": "python",
   "nbconvert_exporter": "python",
   "pygments_lexer": "ipython3",
   "version": "3.12.7"
  }
 },
 "nbformat": 4,
 "nbformat_minor": 2
}
