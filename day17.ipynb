{
 "cells": [
  {
   "cell_type": "code",
   "execution_count": 29,
   "metadata": {},
   "outputs": [],
   "source": [
    "import heapq\n",
    "import re\n",
    "\n",
    "\n",
    "def parse_input(input_file):\n",
    "    lines = []\n",
    "    with open(input_file) as f:\n",
    "        for line in f:\n",
    "            lines.append(line.rstrip())\n",
    "    reg = []\n",
    "    for i in range(3):\n",
    "        num = re.findall(r'\\d+', lines[i])[0]\n",
    "        reg.append(int(num))\n",
    "    nums = re.findall(r'\\d', lines[4])\n",
    "    return reg, [int(x) for x in nums]\n",
    "\n",
    "class Computer:\n",
    "    def __init__(self, program, reg):\n",
    "        self.program = program\n",
    "        self.reg = reg\n",
    "        self.pos = 0\n",
    "        self.outputs = []\n",
    "            \n",
    "    def get_combo(self, oprand):\n",
    "        if oprand <= 3:\n",
    "            return oprand\n",
    "        return self.reg[oprand - 4]\n",
    "\n",
    "    def run_one_line(self):\n",
    "        op = self.program[self.pos]\n",
    "        oprand = self.program[self.pos + 1]\n",
    "        match op:\n",
    "            case 0: # adv\n",
    "                norm = self.reg[0]\n",
    "                denorm = 2 ** self.get_combo(oprand)\n",
    "                self.reg[0] = norm // denorm\n",
    "            case 1: # bxl\n",
    "                self.reg[1] ^= oprand\n",
    "            case 2: # bst\n",
    "                self.reg[1] = self.get_combo(oprand) % 8\n",
    "            case 3: # jnz\n",
    "                if self.reg[0]:\n",
    "                    self.pos = oprand\n",
    "                    return\n",
    "            case 4: # bxc:\n",
    "                self.reg[1] ^= self.reg[2]\n",
    "            case 5: # out\n",
    "                self.outputs.append(self.get_combo(oprand) % 8)\n",
    "            case 6: #bdv\n",
    "                norm = self.reg[0]\n",
    "                denorm = 2 ** self.get_combo(oprand)\n",
    "                self.reg[1] = norm // denorm\n",
    "            case 7: #cdv\n",
    "                norm = self.reg[0]\n",
    "                denorm = 2 ** self.get_combo(oprand)\n",
    "                self.reg[2] = norm // denorm\n",
    "            case _:\n",
    "                raise ValueError('unknown instruction')\n",
    "        self.pos += 2\n",
    "\n",
    "    def execute(self):\n",
    "        while self.pos < len(self.program):\n",
    "            self.run_one_line()\n",
    "        return self.outputs\n",
    "    \n",
    "    def check(self):\n",
    "        while self.pos < len(self.program):\n",
    "            self.run_one_line()\n",
    "            if self.outputs and self.outputs[-1] != self.program[len(self.outputs)-1]:\n",
    "                return False\n",
    "        return self.outputs == self.program\n",
    "\n",
    "    def __repr__(self):\n",
    "        return f'{self.program} {self.reg} {self.pos} {self.outputs}'\n",
    "\n",
    "def part1(input_file):\n",
    "    reg, program = parse_input(input_file)\n",
    "    com = Computer(program, reg)\n",
    "    res =  com.execute()\n",
    "    print(','.join(str(x) for x in res))\n",
    "    return res\n",
    "\n",
    "def calc(a):\n",
    "    b = (a % 8) ^ 3\n",
    "    c = a // (2**b)\n",
    "    a //= 8\n",
    "    b ^= 5\n",
    "    b ^= c\n",
    "    return a, b%8\n",
    "\n",
    "def part2():\n",
    "    seq = [2,4,1,3,7,5,0,3,1,5,4,1,5,5,3,0]\n",
    "    seq = seq[::-1]\n",
    "    n = len(seq)\n",
    "    def recur(cur, pos):\n",
    "        if pos == n:\n",
    "            return cur\n",
    "        cur *= 8\n",
    "        for i in range(8):\n",
    "            if calc(cur + i)[1] == seq[pos]:\n",
    "                x = recur(cur+i, pos + 1)\n",
    "                if x:\n",
    "                    return x\n",
    "        return False\n",
    "    return recur(0, 0)\n"
   ]
  },
  {
   "cell_type": "code",
   "execution_count": 35,
   "metadata": {},
   "outputs": [
    {
     "name": "stdout",
     "output_type": "stream",
     "text": [
      "4,6,3,5,6,3,5,2,1,0\n"
     ]
    },
    {
     "data": {
      "text/plain": [
       "[4, 6, 3, 5, 6, 3, 5, 2, 1, 0]"
      ]
     },
     "execution_count": 35,
     "metadata": {},
     "output_type": "execute_result"
    }
   ],
   "source": [
    "part1('input/day17_test.txt')"
   ]
  },
  {
   "cell_type": "code",
   "execution_count": 34,
   "metadata": {},
   "outputs": [
    {
     "name": "stdout",
     "output_type": "stream",
     "text": [
      "1,6,7,4,3,0,5,0,6\n"
     ]
    },
    {
     "data": {
      "text/plain": [
       "[1, 6, 7, 4, 3, 0, 5, 0, 6]"
      ]
     },
     "execution_count": 34,
     "metadata": {},
     "output_type": "execute_result"
    }
   ],
   "source": [
    "part1('input/day17.txt')"
   ]
  },
  {
   "cell_type": "code",
   "execution_count": 33,
   "metadata": {},
   "outputs": [
    {
     "data": {
      "text/plain": [
       "216148338630253"
      ]
     },
     "execution_count": 33,
     "metadata": {},
     "output_type": "execute_result"
    }
   ],
   "source": [
    "part2()"
   ]
  },
  {
   "cell_type": "code",
   "execution_count": 30,
   "metadata": {},
   "outputs": [
    {
     "data": {
      "text/plain": [
       "[0, 1, 2]"
      ]
     },
     "execution_count": 30,
     "metadata": {},
     "output_type": "execute_result"
    }
   ],
   "source": [
    "program = [int(x) for x in '5,0,5,1,5,4'.split(',')]\n",
    "reg = [10, 0, 0]\n",
    "com = Computer(program, reg)\n",
    "com.execute()"
   ]
  },
  {
   "cell_type": "code",
   "execution_count": 33,
   "metadata": {},
   "outputs": [
    {
     "name": "stdout",
     "output_type": "stream",
     "text": [
      "[4, 2, 5, 6, 7, 7, 7, 7, 3, 1, 0]\n",
      "[0, 0, 0]\n"
     ]
    }
   ],
   "source": [
    "program = [int(x) for x in '0,1,5,4,3,0'.split(',')]\n",
    "reg = [2024, 0, 0]\n",
    "com = Computer(program, reg)\n",
    "print(com.execute())\n",
    "print(com.reg)"
   ]
  },
  {
   "cell_type": "code",
   "execution_count": 34,
   "metadata": {},
   "outputs": [
    {
     "name": "stdout",
     "output_type": "stream",
     "text": [
      "[]\n",
      "[0, 26, 0]\n"
     ]
    }
   ],
   "source": [
    "program = [int(x) for x in '1,7'.split(',')]\n",
    "reg = [0, 29, 0]\n",
    "com = Computer(program, reg)\n",
    "print(com.execute())\n",
    "print(com.reg)"
   ]
  },
  {
   "cell_type": "code",
   "execution_count": 37,
   "metadata": {},
   "outputs": [
    {
     "name": "stdout",
     "output_type": "stream",
     "text": [
      "[]\n",
      "[0, 44354, 43690]\n"
     ]
    }
   ],
   "source": [
    "program = [int(x) for x in '4,0'.split(',')]\n",
    "reg = [0, 2024, 43690]\n",
    "com = Computer(program, reg)\n",
    "print(com.execute())\n",
    "print(com.reg)"
   ]
  },
  {
   "cell_type": "code",
   "execution_count": 43,
   "metadata": {},
   "outputs": [
    {
     "name": "stdout",
     "output_type": "stream",
     "text": [
      "[0, 3, 5, 4, 3, 0]\n",
      "[0, 0, 0]\n"
     ]
    }
   ],
   "source": [
    "program = [int(x) for x in '0,3,5,4,3,0'.split(',')]\n",
    "reg = [117440, 0, 0]\n",
    "com = Computer(program, reg)\n",
    "print(com.execute())\n",
    "print(com.reg)\n",
    "\n"
   ]
  },
  {
   "cell_type": "code",
   "execution_count": 28,
   "metadata": {},
   "outputs": [
    {
     "name": "stdout",
     "output_type": "stream",
     "text": [
      "[2, 4, 1, 3, 7, 5, 0, 3, 1, 5, 4, 1, 5, 5, 3, 0]\n",
      "[0, 0, 0]\n"
     ]
    }
   ],
   "source": [
    "program = [int(x) for x in '2,4,1,3,7,5,0,3,1,5,4,1,5,5,3,0'.split(',')]\n",
    "\n",
    "reg = [216148338630253, 0, 0]\n",
    "com = Computer(program, reg)\n",
    "print(com.execute())\n",
    "print(com.reg)"
   ]
  }
 ],
 "metadata": {
  "kernelspec": {
   "display_name": "base",
   "language": "python",
   "name": "python3"
  },
  "language_info": {
   "codemirror_mode": {
    "name": "ipython",
    "version": 3
   },
   "file_extension": ".py",
   "mimetype": "text/x-python",
   "name": "python",
   "nbconvert_exporter": "python",
   "pygments_lexer": "ipython3",
   "version": "3.12.7"
  }
 },
 "nbformat": 4,
 "nbformat_minor": 2
}
