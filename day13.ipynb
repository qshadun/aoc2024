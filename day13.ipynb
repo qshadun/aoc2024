{
 "cells": [
  {
   "cell_type": "code",
   "execution_count": 54,
   "metadata": {},
   "outputs": [],
   "source": [
    "import re\n",
    "\n",
    "def parse_input(input_file):\n",
    "    lines = []\n",
    "    with open(input_file) as f:\n",
    "        for line in f:\n",
    "            lines.append(line.rstrip())\n",
    "    ans = []\n",
    "    for i in range(0, len(lines), 4):\n",
    "        ax, ay = re.findall(r'\\d+', lines[i])\n",
    "        bx, by = re.findall(r'\\d+', lines[i+1])\n",
    "        tx, ty = re.findall(r'\\d+', lines[i+2])\n",
    "        ans.append([int(x) for x in [ax, ay, bx, by, tx, ty]])\n",
    "    return ans\n",
    "\n",
    "\n",
    "\n",
    "def part1(input_file):\n",
    "    games = parse_input(input_file)\n",
    "    ans = 0\n",
    "    for game in games:\n",
    "        ax, ay, bx, by, tx, ty = game\n",
    "        smallest = float('inf')\n",
    "        for i in range(100):\n",
    "            x, y = ax * i, ay * i\n",
    "            if x > tx or y > ty:\n",
    "                break\n",
    "            for j in range(100):\n",
    "                x += bx\n",
    "                y += by\n",
    "                if x > tx or y > ty:\n",
    "                    break\n",
    "                if x == tx and y == ty:\n",
    "                    smallest = min(i * 3 + j+1, smallest)\n",
    "                    break\n",
    "        if smallest != float('inf'):\n",
    "            ans += smallest\n",
    "    return ans\n",
    "\n",
    "BASE = 10000000000000\n",
    "\n",
    "def part2(input_file):\n",
    "    games = parse_input(input_file)\n",
    "    ans = 0\n",
    "    for game in games:\n",
    "        ax, ay, bx, by, tx, ty = game\n",
    "        tx += BASE\n",
    "        ty += BASE\n",
    "        b = (ty*ax-tx*ay) // (ax*by-bx*ay)\n",
    "        a = (tx - b * bx) // ax\n",
    "        # print(game, a, b, a * ax + b * bx)\n",
    "        if a * ax + b * bx == tx and a * ay + b * by == ty:\n",
    "            ans += 3 * a + b\n",
    "    return ans\n"
   ]
  },
  {
   "cell_type": "code",
   "execution_count": 55,
   "metadata": {},
   "outputs": [
    {
     "data": {
      "text/plain": [
       "480"
      ]
     },
     "execution_count": 55,
     "metadata": {},
     "output_type": "execute_result"
    }
   ],
   "source": [
    "part1('input/day13_test.txt')"
   ]
  },
  {
   "cell_type": "code",
   "execution_count": 56,
   "metadata": {},
   "outputs": [
    {
     "data": {
      "text/plain": [
       "31623"
      ]
     },
     "execution_count": 56,
     "metadata": {},
     "output_type": "execute_result"
    }
   ],
   "source": [
    "part1('input/day13.txt')"
   ]
  },
  {
   "cell_type": "code",
   "execution_count": 57,
   "metadata": {},
   "outputs": [
    {
     "data": {
      "text/plain": [
       "875318608908"
      ]
     },
     "execution_count": 57,
     "metadata": {},
     "output_type": "execute_result"
    }
   ],
   "source": [
    "part2('input/day13_test.txt')"
   ]
  },
  {
   "cell_type": "code",
   "execution_count": 58,
   "metadata": {},
   "outputs": [
    {
     "data": {
      "text/plain": [
       "93209116744825"
      ]
     },
     "execution_count": 58,
     "metadata": {},
     "output_type": "execute_result"
    }
   ],
   "source": [
    "part2('input/day13.txt')"
   ]
  },
  {
   "cell_type": "code",
   "execution_count": null,
   "metadata": {},
   "outputs": [],
   "source": []
  }
 ],
 "metadata": {
  "kernelspec": {
   "display_name": "base",
   "language": "python",
   "name": "python3"
  },
  "language_info": {
   "codemirror_mode": {
    "name": "ipython",
    "version": 3
   },
   "file_extension": ".py",
   "mimetype": "text/x-python",
   "name": "python",
   "nbconvert_exporter": "python",
   "pygments_lexer": "ipython3",
   "version": "3.12.7"
  }
 },
 "nbformat": 4,
 "nbformat_minor": 2
}
