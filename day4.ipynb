{
 "cells": [
  {
   "cell_type": "code",
   "execution_count": 24,
   "metadata": {},
   "outputs": [],
   "source": [
    "def load_input(input_file):\n",
    "    ans = []\n",
    "    with open(input_file) as f:\n",
    "        for line in f:\n",
    "            ans.append(line.rstrip())\n",
    "    return ans\n",
    "\n",
    "directions = [\n",
    "     [(0,1,2,3), (0, 0, 0, 0)],\n",
    "     [(0,-1,-2,-3), (0, 0, 0, 0)],\n",
    "     [(0, 0, 0, 0), (0, 1, 2, 3)],\n",
    "     [(0, 0, 0, 0), (0, -1, -2, -3)],\n",
    "     [(0,1,2,3), (0,1,2,3)],\n",
    "     [(0,1,2,3), (0, -1, -2, -3)],\n",
    "     [(0, -1, -2, -3), (0,1,2,3)],\n",
    "     [(0, -1, -2, -3), (0, -1, -2, -3)]\n",
    "]\n",
    "def part1(input_file):\n",
    "    grid = load_input(input_file)\n",
    "    ans = 0\n",
    "    m, n = len(grid), len(grid[0])\n",
    "    for i in range(m):\n",
    "        for j in range(n):\n",
    "            for dxs, dys in directions:\n",
    "                ok = True\n",
    "                for k in range(4):\n",
    "                    x, y = i + dxs[k], j+dys[k]\n",
    "                    if not (0 <= x < m and 0 <= y < n and grid[x][y] == XMAS[k]):\n",
    "                        ok = False\n",
    "                        break\n",
    "                if ok:\n",
    "                    ans += 1\n",
    "    return ans\n"
   ]
  },
  {
   "cell_type": "code",
   "execution_count": 25,
   "metadata": {},
   "outputs": [
    {
     "data": {
      "text/plain": [
       "18"
      ]
     },
     "execution_count": 25,
     "metadata": {},
     "output_type": "execute_result"
    }
   ],
   "source": [
    "part1('input/day4_test.txt')"
   ]
  },
  {
   "cell_type": "code",
   "execution_count": 26,
   "metadata": {},
   "outputs": [
    {
     "data": {
      "text/plain": [
       "2718"
      ]
     },
     "execution_count": 26,
     "metadata": {},
     "output_type": "execute_result"
    }
   ],
   "source": [
    "part1('input/day4.txt')"
   ]
  },
  {
   "cell_type": "code",
   "execution_count": 21,
   "metadata": {},
   "outputs": [],
   "source": [
    "def part2(input_file):\n",
    "    grid = load_input(input_file)\n",
    "    ans = 0\n",
    "    m, n = len(grid), len(grid[0])\n",
    "    for i in range(m):\n",
    "        for j in range(n):\n",
    "            if 1<=i < m-1 and 1 <= j < n-1 and grid[i][j] in 'A':\n",
    "                s1 = f'{grid[i-1][j-1]}{grid[i+1][j+1]}'\n",
    "                s2 = f'{grid[i-1][j+1]}{grid[i+1][j-1]}'\n",
    "                if (s1 == 'MS' or s1 == 'SM') and (s2 == 'MS' or s2 == 'SM'):\n",
    "                    ans += 1\n",
    "    return ans"
   ]
  },
  {
   "cell_type": "code",
   "execution_count": 22,
   "metadata": {},
   "outputs": [
    {
     "data": {
      "text/plain": [
       "9"
      ]
     },
     "execution_count": 22,
     "metadata": {},
     "output_type": "execute_result"
    }
   ],
   "source": [
    "part2('input/day4_test.txt')"
   ]
  },
  {
   "cell_type": "code",
   "execution_count": 23,
   "metadata": {},
   "outputs": [
    {
     "data": {
      "text/plain": [
       "2046"
      ]
     },
     "execution_count": 23,
     "metadata": {},
     "output_type": "execute_result"
    }
   ],
   "source": [
    "part2('input/day4.txt')"
   ]
  },
  {
   "cell_type": "code",
   "execution_count": null,
   "metadata": {},
   "outputs": [],
   "source": []
  }
 ],
 "metadata": {
  "kernelspec": {
   "display_name": "base",
   "language": "python",
   "name": "python3"
  },
  "language_info": {
   "codemirror_mode": {
    "name": "ipython",
    "version": 3
   },
   "file_extension": ".py",
   "mimetype": "text/x-python",
   "name": "python",
   "nbconvert_exporter": "python",
   "pygments_lexer": "ipython3",
   "version": "3.12.7"
  }
 },
 "nbformat": 4,
 "nbformat_minor": 2
}
