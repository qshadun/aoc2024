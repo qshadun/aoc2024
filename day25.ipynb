{
 "cells": [
  {
   "cell_type": "code",
   "execution_count": 24,
   "metadata": {},
   "outputs": [],
   "source": [
    "from collections import defaultdict\n",
    "\n",
    "def parse_input(input_file):\n",
    "    locks = []\n",
    "    keys = []\n",
    "    lines = []\n",
    "    with open(input_file) as f:\n",
    "        for line in f:\n",
    "            lines.append(line.rstrip())\n",
    "    for i in range(0, len(lines), 8):\n",
    "        grid = lines[i:i+7]\n",
    "        \n",
    "        if grid[0][0] == '#': #locks\n",
    "            heights = [0] * 5\n",
    "            for j in range(5):\n",
    "                for k in range(1, 7):\n",
    "                    # print(j, k)\n",
    "                    if grid[k][j] == '.':\n",
    "                        heights[j] = k-1\n",
    "                        break\n",
    "            locks.append(heights)\n",
    "        else:\n",
    "            heights = [0] * 5\n",
    "            for j in range(5):\n",
    "                for k in range(1, 7):\n",
    "                    if grid[k][j] == '#':\n",
    "                        heights[j] = 6 - k\n",
    "                        break\n",
    "            keys.append(heights)\n",
    "    return locks, keys\n",
    "\n",
    "\n",
    "\n",
    "        \n",
    "def part1(input_file):\n",
    "    locks, keys = parse_input(input_file)\n",
    "    ans = 0\n",
    "    for lock in locks:\n",
    "        for key in keys:\n",
    "            if all(lock[i]+key[i] <= 5 for i in range(5)):\n",
    "                ans += 1\n",
    "    return ans\n",
    "\n",
    "    \n"
   ]
  },
  {
   "cell_type": "code",
   "execution_count": 26,
   "metadata": {},
   "outputs": [
    {
     "data": {
      "text/plain": [
       "3"
      ]
     },
     "execution_count": 26,
     "metadata": {},
     "output_type": "execute_result"
    }
   ],
   "source": [
    "part1('input/day25_test.txt')"
   ]
  },
  {
   "cell_type": "code",
   "execution_count": 27,
   "metadata": {},
   "outputs": [
    {
     "data": {
      "text/plain": [
       "3107"
      ]
     },
     "execution_count": 27,
     "metadata": {},
     "output_type": "execute_result"
    }
   ],
   "source": [
    "part1('input/day25.txt')"
   ]
  },
  {
   "cell_type": "code",
   "execution_count": null,
   "metadata": {},
   "outputs": [],
   "source": []
  }
 ],
 "metadata": {
  "kernelspec": {
   "display_name": "base",
   "language": "python",
   "name": "python3"
  },
  "language_info": {
   "codemirror_mode": {
    "name": "ipython",
    "version": 3
   },
   "file_extension": ".py",
   "mimetype": "text/x-python",
   "name": "python",
   "nbconvert_exporter": "python",
   "pygments_lexer": "ipython3",
   "version": "3.12.7"
  }
 },
 "nbformat": 4,
 "nbformat_minor": 2
}
