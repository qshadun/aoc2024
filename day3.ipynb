{
 "cells": [
  {
   "cell_type": "code",
   "execution_count": null,
   "metadata": {},
   "outputs": [],
   "source": [
    "import re\n",
    "\n",
    "pattern = re.compile(r'mul\\((\\d{1,3}),(\\d{1,3})\\)')\n",
    "\n",
    "def part1(input_file):\n",
    "    with open(input_file) as f:\n",
    "        s = f.read()\n",
    "    ans = 0\n",
    "    for a, b in re.findall(pattern, s):\n",
    "        ans += int(a) * int(b)\n",
    "    return ans"
   ]
  },
  {
   "cell_type": "code",
   "execution_count": 10,
   "metadata": {},
   "outputs": [
    {
     "data": {
      "text/plain": [
       "161"
      ]
     },
     "execution_count": 10,
     "metadata": {},
     "output_type": "execute_result"
    }
   ],
   "source": [
    "part1('input/day3_test.txt')"
   ]
  },
  {
   "cell_type": "code",
   "execution_count": 11,
   "metadata": {},
   "outputs": [
    {
     "data": {
      "text/plain": [
       "173731097"
      ]
     },
     "execution_count": 11,
     "metadata": {},
     "output_type": "execute_result"
    }
   ],
   "source": [
    "part1('input/day3.txt')"
   ]
  },
  {
   "cell_type": "code",
   "execution_count": 40,
   "metadata": {},
   "outputs": [],
   "source": [
    "pattern = re.compile(r'mul\\((\\d{1,3}),(\\d{1,3})\\)')\n",
    "\n",
    "def calc_sub(s: str):\n",
    "    ans = 0\n",
    "    for a, b in re.findall(pattern, s):\n",
    "        ans += int(a) * int(b)\n",
    "    return ans\n",
    "\n",
    "def solve(s):\n",
    "    ans = 0\n",
    "    n = len(s)\n",
    "    i = 0\n",
    "    ans = 0\n",
    "    while i < n:\n",
    "        next_no = s.find(\"don't()\", i+1)\n",
    "        if next_no == -1:\n",
    "            ans += calc_sub(s[i:])\n",
    "            break\n",
    "        else:\n",
    "            ans += calc_sub(s[i:next_no])\n",
    "        next_yes = s.find(\"do()\", next_no+1)\n",
    "        if next_yes == -1:\n",
    "            break\n",
    "        else:\n",
    "            i = next_yes + 1\n",
    "\n",
    "    return ans\n",
    "\n",
    "def part2(input_file):\n",
    "    with open(input_file) as f:\n",
    "        s = f.read()\n",
    "    return solve(s)"
   ]
  },
  {
   "cell_type": "code",
   "execution_count": 41,
   "metadata": {},
   "outputs": [
    {
     "data": {
      "text/plain": [
       "48"
      ]
     },
     "execution_count": 41,
     "metadata": {},
     "output_type": "execute_result"
    }
   ],
   "source": [
    "s = \"\"\"xmul(2,4)&mul[3,7]!^don't()_mul(5,5)+mul(32,64](mul(11,8)undo()?mul(8,5))\"\"\"\n",
    "solve(s)"
   ]
  },
  {
   "cell_type": "code",
   "execution_count": 43,
   "metadata": {},
   "outputs": [
    {
     "data": {
      "text/plain": [
       "93729253"
      ]
     },
     "execution_count": 43,
     "metadata": {},
     "output_type": "execute_result"
    }
   ],
   "source": [
    "part2('input/day3.txt')"
   ]
  },
  {
   "cell_type": "code",
   "execution_count": null,
   "metadata": {},
   "outputs": [],
   "source": []
  }
 ],
 "metadata": {
  "kernelspec": {
   "display_name": "base",
   "language": "python",
   "name": "python3"
  },
  "language_info": {
   "codemirror_mode": {
    "name": "ipython",
    "version": 3
   },
   "file_extension": ".py",
   "mimetype": "text/x-python",
   "name": "python",
   "nbconvert_exporter": "python",
   "pygments_lexer": "ipython3",
   "version": "3.12.7"
  }
 },
 "nbformat": 4,
 "nbformat_minor": 2
}
