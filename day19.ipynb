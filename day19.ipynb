{
 "cells": [
  {
   "cell_type": "code",
   "execution_count": 9,
   "metadata": {},
   "outputs": [],
   "source": [
    "from collections import deque\n",
    "from functools import cache\n",
    "\n",
    "def parse_input(input_file):\n",
    "    lines = []\n",
    "    with open(input_file) as f:\n",
    "        for line in f:\n",
    "            lines.append(line.rstrip())\n",
    "    patterns = set(lines[0].split(', '))\n",
    "    return patterns, lines[2:]\n",
    "\n",
    "\n",
    "def possible(design, patterns):\n",
    "    n = len(design)\n",
    "    @cache\n",
    "    def recur(i):\n",
    "        if i == n:\n",
    "            return True\n",
    "        for j in range(n + 1):\n",
    "            if design[i:j] in patterns and recur(j):\n",
    "                return True\n",
    "        return False\n",
    "    return recur(0)\n",
    "\n",
    "def part1(input_file):\n",
    "    patterns, designs = parse_input(input_file)\n",
    "    ans = 0\n",
    "    for design in designs:\n",
    "        if possible(design, patterns):\n",
    "            ans += 1\n",
    "    return ans\n",
    "\n",
    "def ways(design, patterns):\n",
    "    n = len(design)\n",
    "    @cache\n",
    "    def recur(i):\n",
    "        if i == n:\n",
    "            return 1\n",
    "        ans = 0\n",
    "        for j in range(n + 1):\n",
    "            if design[i:j] in patterns:\n",
    "                ans += recur(j)\n",
    "        return ans\n",
    "    return recur(0)\n",
    "\n",
    "def part2(input_file):\n",
    "    patterns, designs = parse_input(input_file)\n",
    "    ans = 0\n",
    "    for design in designs:\n",
    "        ans += ways(design, patterns)\n",
    "    return ans\n"
   ]
  },
  {
   "cell_type": "code",
   "execution_count": 6,
   "metadata": {},
   "outputs": [
    {
     "data": {
      "text/plain": [
       "6"
      ]
     },
     "execution_count": 6,
     "metadata": {},
     "output_type": "execute_result"
    }
   ],
   "source": [
    "part1('input/day19_test.txt')"
   ]
  },
  {
   "cell_type": "code",
   "execution_count": 7,
   "metadata": {},
   "outputs": [
    {
     "data": {
      "text/plain": [
       "216"
      ]
     },
     "execution_count": 7,
     "metadata": {},
     "output_type": "execute_result"
    }
   ],
   "source": [
    "part1('input/day19.txt')"
   ]
  },
  {
   "cell_type": "code",
   "execution_count": 10,
   "metadata": {},
   "outputs": [
    {
     "data": {
      "text/plain": [
       "16"
      ]
     },
     "execution_count": 10,
     "metadata": {},
     "output_type": "execute_result"
    }
   ],
   "source": [
    "part2('input/day19_test.txt')"
   ]
  },
  {
   "cell_type": "code",
   "execution_count": 11,
   "metadata": {},
   "outputs": [
    {
     "data": {
      "text/plain": [
       "603191454138773"
      ]
     },
     "execution_count": 11,
     "metadata": {},
     "output_type": "execute_result"
    }
   ],
   "source": [
    "part2('input/day19.txt')"
   ]
  },
  {
   "cell_type": "code",
   "execution_count": null,
   "metadata": {},
   "outputs": [],
   "source": []
  }
 ],
 "metadata": {
  "kernelspec": {
   "display_name": "base",
   "language": "python",
   "name": "python3"
  },
  "language_info": {
   "codemirror_mode": {
    "name": "ipython",
    "version": 3
   },
   "file_extension": ".py",
   "mimetype": "text/x-python",
   "name": "python",
   "nbconvert_exporter": "python",
   "pygments_lexer": "ipython3",
   "version": "3.12.7"
  }
 },
 "nbformat": 4,
 "nbformat_minor": 2
}
