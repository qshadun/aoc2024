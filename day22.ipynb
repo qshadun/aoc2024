{
 "cells": [
  {
   "cell_type": "code",
   "execution_count": null,
   "metadata": {},
   "outputs": [],
   "source": [
    "def parse_input(input_file):\n",
    "    ans = []\n",
    "    with open(input_file) as f:\n",
    "        for line in f:\n",
    "            ans.append(int(line.rstrip()))\n",
    "    return ans\n",
    "\n",
    "def calc(secret):\n",
    "    secret = ((secret * 64) ^ secret) % 16777216\n",
    "    secret = ((secret // 32) ^ secret) % 16777216\n",
    "    return ((secret * 2048) ^ secret) % 16777216\n",
    "\n",
    "def ones(num):\n",
    "    return num % 10\n",
    "\n",
    "def calc_changes(secret):\n",
    "    nums = [secret]\n",
    "    for _ in range(2000):\n",
    "        nums.append(calc(nums[-1]))\n",
    "    prices = [num % 10 for num in nums]\n",
    "    changes = []\n",
    "    for i in range(2000):\n",
    "        changes.append(prices[i+1] % 10 - prices[i] % 10)\n",
    "    return prices, changes\n",
    "\n",
    "def change_to_str(c):\n",
    "    if c >= 0:\n",
    "        return '+' + str(c)\n",
    "    else:\n",
    "        return str(c)\n",
    "\n",
    "def to_str(changes):\n",
    "    return ''.join(change_to_str(x) for x in changes)\n",
    "\n",
    "def find_pattern(nums, change_str: str, pattern):\n",
    "    idx = change_str.find(pattern)\n",
    "    if idx != -1:\n",
    "        return nums[idx // 2 + 4]\n",
    "    else:\n",
    "        return 0\n",
    "    \n",
    "def part1(input_file):\n",
    "    seeds = parse_input(input_file)\n",
    "    ans = 0\n",
    "    for sec in seeds:\n",
    "        for _ in range(2000):\n",
    "            sec = calc(sec)\n",
    "        ans += sec\n",
    "    return ans\n",
    "\n",
    "def part2(input_file):\n",
    "    seeds = parse_input(input_file)\n",
    "    price_changes = [calc_changes(seed) for seed in seeds]\n",
    "    price_patterns = [(prices, to_str(changes)) for prices, changes in price_changes]\n",
    "    ans = 0\n",
    "    max_pattern = None\n",
    "    for i1 in range(-9, 10):\n",
    "        for i2 in range(-9, 10):\n",
    "            for i3 in range(-9, 10):\n",
    "                for i4 in range(-9, 10):\n",
    "                    pattern = change_to_str(i1) + change_to_str(i2) + change_to_str(i3) + change_to_str(i4)\n",
    "                    v = 0\n",
    "                    for prices, change_str in price_patterns:\n",
    "                        v += find_pattern(prices, change_str, pattern)\n",
    "                    if v > ans:\n",
    "                        ans = v\n",
    "                        max_pattern = pattern\n",
    "    \n",
    "    return ans, max_pattern"
   ]
  },
  {
   "cell_type": "code",
   "execution_count": 19,
   "metadata": {},
   "outputs": [
    {
     "data": {
      "text/plain": [
       "37327623"
      ]
     },
     "execution_count": 19,
     "metadata": {},
     "output_type": "execute_result"
    }
   ],
   "source": [
    "part1('input/day22_test.txt')"
   ]
  },
  {
   "cell_type": "code",
   "execution_count": 20,
   "metadata": {},
   "outputs": [
    {
     "data": {
      "text/plain": [
       "14726157693"
      ]
     },
     "execution_count": 20,
     "metadata": {},
     "output_type": "execute_result"
    }
   ],
   "source": [
    "part1('input/day22.txt')"
   ]
  },
  {
   "cell_type": "code",
   "execution_count": 37,
   "metadata": {},
   "outputs": [
    {
     "data": {
      "text/plain": [
       "(23, '-2+1-1+3')"
      ]
     },
     "execution_count": 37,
     "metadata": {},
     "output_type": "execute_result"
    }
   ],
   "source": [
    "part2('input/day22_test2.txt')"
   ]
  },
  {
   "cell_type": "code",
   "execution_count": 38,
   "metadata": {},
   "outputs": [
    {
     "data": {
      "text/plain": [
       "(1614, '-3+2+0+1')"
      ]
     },
     "execution_count": 38,
     "metadata": {},
     "output_type": "execute_result"
    }
   ],
   "source": [
    "part2('input/day22.txt')"
   ]
  },
  {
   "cell_type": "code",
   "execution_count": null,
   "metadata": {},
   "outputs": [],
   "source": []
  }
 ],
 "metadata": {
  "kernelspec": {
   "display_name": "base",
   "language": "python",
   "name": "python3"
  },
  "language_info": {
   "codemirror_mode": {
    "name": "ipython",
    "version": 3
   },
   "file_extension": ".py",
   "mimetype": "text/x-python",
   "name": "python",
   "nbconvert_exporter": "python",
   "pygments_lexer": "ipython3",
   "version": "3.12.7"
  }
 },
 "nbformat": 4,
 "nbformat_minor": 2
}
