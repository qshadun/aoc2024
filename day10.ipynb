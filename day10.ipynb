{
 "cells": [
  {
   "cell_type": "code",
   "execution_count": null,
   "metadata": {},
   "outputs": [],
   "source": [
    "from collections import deque\n",
    "from functools import cache\n",
    "\n",
    "def parse_input(input_file):\n",
    "    grid = []\n",
    "    with open(input_file) as f:\n",
    "        for line in f:\n",
    "            row = [int(x) for x in line.rstrip()]\n",
    "            grid.append(row)\n",
    "    return grid\n",
    "\n",
    "deltas = [(-1, 0), (1, 0), (0, -1), (0, 1)]\n",
    "\n",
    "def calc_score(start, grid):\n",
    "    m, n = len(grid), len(grid[0])\n",
    "    q = deque([start])\n",
    "    visited = set([start])\n",
    "    ans = 0\n",
    "    while q:\n",
    "        i, j = q.popleft()\n",
    "        if grid[i][j] == 9:\n",
    "            ans += 1\n",
    "            continue\n",
    "        for di, dj in deltas:\n",
    "            ni, nj = i + di, j + dj\n",
    "            if 0 <= ni < m and 0 <= nj < n and grid[i][j] + 1 == grid[ni][nj] and (ni, nj) not in visited:\n",
    "                visited.add((ni, nj))\n",
    "                q.append((ni, nj))\n",
    "    return ans\n",
    "\n",
    "\n",
    "def part1(input_file):\n",
    "    grid = parse_input(input_file)\n",
    "    m, n = len(grid), len(grid[0])\n",
    "    ans = 0\n",
    "    for i in range(m):\n",
    "        for j in range(n):\n",
    "            if grid[i][j] == 0:\n",
    "                ans += calc_score((i, j), grid)\n",
    "    return ans\n",
    "\n",
    "def calc_score2(start, grid):\n",
    "    m, n = len(grid), len(grid[0])\n",
    "    @cache\n",
    "    def dfs(i, j):\n",
    "        if grid[i][j] == 9:\n",
    "            return 1\n",
    "        ans = 0\n",
    "        for di, dj in deltas:\n",
    "            ni, nj = i + di, j + dj\n",
    "            if 0 <= ni < m and 0 <= nj < n and grid[i][j] + 1 == grid[ni][nj]:\n",
    "                ans += dfs(ni, nj)\n",
    "        return ans\n",
    "    i, j = start\n",
    "    return dfs(i, j)\n",
    "\n",
    "\n",
    "def part2(input_file):\n",
    "    grid = parse_input(input_file)\n",
    "    m, n = len(grid), len(grid[0])\n",
    "    ans = 0\n",
    "    for i in range(m):\n",
    "        for j in range(n):\n",
    "            if grid[i][j] == 0:\n",
    "                ans += calc_score2((i, j), grid)\n",
    "    return ans\n"
   ]
  },
  {
   "cell_type": "code",
   "execution_count": 7,
   "metadata": {},
   "outputs": [
    {
     "data": {
      "text/plain": [
       "36"
      ]
     },
     "execution_count": 7,
     "metadata": {},
     "output_type": "execute_result"
    }
   ],
   "source": [
    "part1('input/day10_test.txt')"
   ]
  },
  {
   "cell_type": "code",
   "execution_count": 8,
   "metadata": {},
   "outputs": [
    {
     "data": {
      "text/plain": [
       "538"
      ]
     },
     "execution_count": 8,
     "metadata": {},
     "output_type": "execute_result"
    }
   ],
   "source": [
    "part1('input/day10.txt')"
   ]
  },
  {
   "cell_type": "code",
   "execution_count": 10,
   "metadata": {},
   "outputs": [
    {
     "data": {
      "text/plain": [
       "81"
      ]
     },
     "execution_count": 10,
     "metadata": {},
     "output_type": "execute_result"
    }
   ],
   "source": [
    "part2('input/day10_test.txt')"
   ]
  },
  {
   "cell_type": "code",
   "execution_count": 11,
   "metadata": {},
   "outputs": [
    {
     "data": {
      "text/plain": [
       "1110"
      ]
     },
     "execution_count": 11,
     "metadata": {},
     "output_type": "execute_result"
    }
   ],
   "source": [
    "part2('input/day10.txt')"
   ]
  },
  {
   "cell_type": "code",
   "execution_count": null,
   "metadata": {},
   "outputs": [],
   "source": []
  }
 ],
 "metadata": {
  "kernelspec": {
   "display_name": "base",
   "language": "python",
   "name": "python3"
  },
  "language_info": {
   "codemirror_mode": {
    "name": "ipython",
    "version": 3
   },
   "file_extension": ".py",
   "mimetype": "text/x-python",
   "name": "python",
   "nbconvert_exporter": "python",
   "pygments_lexer": "ipython3",
   "version": "3.12.7"
  }
 },
 "nbformat": 4,
 "nbformat_minor": 2
}
