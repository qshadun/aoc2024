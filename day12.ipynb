{
 "cells": [
  {
   "cell_type": "code",
   "execution_count": 22,
   "metadata": {},
   "outputs": [],
   "source": [
    "from functools import cache\n",
    "from collections import deque\n",
    "\n",
    "deltas = [(-1, 0), (1, 0), (0, -1), (0, 1)]\n",
    "\n",
    "def parse_input(input_file):\n",
    "    grid = []\n",
    "    with open(input_file) as f:\n",
    "        for line in f:\n",
    "            row = [c for c in line.rstrip()]\n",
    "            grid.append(row)\n",
    "    return grid\n",
    "\n",
    "\n",
    "\n",
    "def part1(input_file):\n",
    "    grid = parse_input(input_file)\n",
    "    m, n = len(grid), len(grid[0])\n",
    "    visited = [[0] * n for _ in range(m)]\n",
    "    ans = 0\n",
    "    for i in range(m):\n",
    "        for j in range(n):\n",
    "            if not visited[i][j]:\n",
    "                q = deque([(i, j)])\n",
    "                visited[i][j] = 1\n",
    "                cc = grid[i][j]\n",
    "                area = 0\n",
    "                perimeter = 0\n",
    "                while q:\n",
    "                    x,  y = q.popleft()\n",
    "                    area += 1\n",
    "                    for dx, dy in deltas:\n",
    "                        nx, ny = x + dx, y + dy\n",
    "                        if 0 <= nx < m and 0 <= ny < n and grid[nx][ny] == cc:\n",
    "                            if not visited[nx][ny]:\n",
    "                                visited[nx][ny] = 1\n",
    "                                q.append((nx, ny))\n",
    "                        else:\n",
    "                            perimeter += 1\n",
    "                ans += perimeter * area\n",
    "    return ans\n",
    "\n",
    "\n",
    "def part2(input_file):\n",
    "    grid = parse_input(input_file)\n",
    "    m, n = len(grid), len(grid[0])\n",
    "    visited = [[0] * n for _ in range(m)]\n",
    "    ans = 0\n",
    "    for i in range(m):\n",
    "        for j in range(n):\n",
    "            if not visited[i][j]:\n",
    "                q = deque([(i, j)])\n",
    "                visited[i][j] = 1\n",
    "                cc = grid[i][j]\n",
    "                area = 0\n",
    "                sides = 0\n",
    "                perimeters = set()\n",
    "                while q:\n",
    "                    x,  y = q.popleft()\n",
    "                    area += 1\n",
    "                    \n",
    "                    for dx, dy in deltas:\n",
    "                        nx, ny = x + dx, y + dy\n",
    "                        if 0 <= nx < m and 0 <= ny < n and grid[nx][ny] == cc:\n",
    "                            if not visited[nx][ny]:\n",
    "                                visited[nx][ny] = 1\n",
    "                                q.append((nx, ny))\n",
    "                        else:\n",
    "                            if dx:\n",
    "                                perimeters.add((dx, dy, nx, ny))\n",
    "                                if not ((dx, dy, nx, ny-1) in perimeters or (dx, dy, nx, ny+1) in perimeters):\n",
    "                                    sides += 1\n",
    "                            else:\n",
    "                                perimeters.add((dx, dy, nx, ny))\n",
    "                                if not ((dx, dy, nx-1, ny) in perimeters or (dx, dy, nx+1, ny) in perimeters):\n",
    "                                    sides += 1\n",
    "                # print(cc, area, sides)\n",
    "                ans += sides * area\n",
    "    return ans\n"
   ]
  },
  {
   "cell_type": "code",
   "execution_count": 6,
   "metadata": {},
   "outputs": [
    {
     "data": {
      "text/plain": [
       "1930"
      ]
     },
     "execution_count": 6,
     "metadata": {},
     "output_type": "execute_result"
    }
   ],
   "source": [
    "part1('input/day12_test.txt')"
   ]
  },
  {
   "cell_type": "code",
   "execution_count": 7,
   "metadata": {},
   "outputs": [
    {
     "data": {
      "text/plain": [
       "1377008"
      ]
     },
     "execution_count": 7,
     "metadata": {},
     "output_type": "execute_result"
    }
   ],
   "source": [
    "part1('input/day12.txt')"
   ]
  },
  {
   "cell_type": "code",
   "execution_count": 23,
   "metadata": {},
   "outputs": [
    {
     "data": {
      "text/plain": [
       "1206"
      ]
     },
     "execution_count": 23,
     "metadata": {},
     "output_type": "execute_result"
    }
   ],
   "source": [
    "part2('input/day12_test.txt')"
   ]
  },
  {
   "cell_type": "code",
   "execution_count": 24,
   "metadata": {},
   "outputs": [
    {
     "data": {
      "text/plain": [
       "815788"
      ]
     },
     "execution_count": 24,
     "metadata": {},
     "output_type": "execute_result"
    }
   ],
   "source": [
    "part2('input/day12.txt')"
   ]
  },
  {
   "cell_type": "code",
   "execution_count": null,
   "metadata": {},
   "outputs": [],
   "source": []
  }
 ],
 "metadata": {
  "kernelspec": {
   "display_name": "base",
   "language": "python",
   "name": "python3"
  },
  "language_info": {
   "codemirror_mode": {
    "name": "ipython",
    "version": 3
   },
   "file_extension": ".py",
   "mimetype": "text/x-python",
   "name": "python",
   "nbconvert_exporter": "python",
   "pygments_lexer": "ipython3",
   "version": "3.12.7"
  }
 },
 "nbformat": 4,
 "nbformat_minor": 2
}
