{
 "cells": [
  {
   "cell_type": "code",
   "execution_count": null,
   "metadata": {},
   "outputs": [],
   "source": [
    "def parse(input_file):\n",
    "    ans = []\n",
    "    with open(input_file) as f:\n",
    "        for line in f:\n",
    "            row = [int(x) for x in line.rstrip().split(' ')]\n",
    "            ans.append(row)\n",
    "    return ans\n",
    "\n",
    "def part1(input_file):\n",
    "    grid = parse(input_file)\n",
    "    ans = 0\n",
    "    for row in grid:\n",
    "        asc = row[0] < row[1]\n",
    "        safe = True\n",
    "        for i in range(len(row) - 1):\n",
    "            delta = row[i+1] - row[i]\n",
    "            if asc:\n",
    "                if not( 1 <= delta <= 3):\n",
    "                    safe = False\n",
    "                    break\n",
    "            else:\n",
    "                if not (1 <= -delta <= 3):\n",
    "                    safe = False\n",
    "                    break\n",
    "        if safe:\n",
    "            ans += 1\n",
    "    return ans\n",
    "            \n"
   ]
  },
  {
   "cell_type": "code",
   "execution_count": 8,
   "metadata": {},
   "outputs": [
    {
     "data": {
      "text/plain": [
       "2"
      ]
     },
     "execution_count": 8,
     "metadata": {},
     "output_type": "execute_result"
    }
   ],
   "source": [
    "part1('input/day2_test.txt')"
   ]
  },
  {
   "cell_type": "code",
   "execution_count": 10,
   "metadata": {},
   "outputs": [
    {
     "data": {
      "text/plain": [
       "218"
      ]
     },
     "execution_count": 10,
     "metadata": {},
     "output_type": "execute_result"
    }
   ],
   "source": [
    "part1('input/day2.txt')"
   ]
  },
  {
   "cell_type": "code",
   "execution_count": 11,
   "metadata": {},
   "outputs": [],
   "source": [
    "def is_safe(row):\n",
    "    asc = row[0] < row[1]\n",
    "    for i in range(len(row) - 1):\n",
    "        delta = row[i+1] - row[i]\n",
    "        if asc:\n",
    "            if not( 1 <= delta <= 3):\n",
    "                return False\n",
    "        else:\n",
    "            if not (1 <= -delta <= 3):\n",
    "                return False\n",
    "    return True\n",
    "\n",
    "\n",
    "def part2(input_file):\n",
    "    grid = parse(input_file)\n",
    "    ans = 0\n",
    "    for row in grid:\n",
    "        if is_safe(row):\n",
    "            ans += 1\n",
    "        else:\n",
    "            for i in range(len(row)):\n",
    "                new_row = row[:i] + row[i+1:]\n",
    "                if is_safe(new_row):\n",
    "                    ans += 1\n",
    "                    break\n",
    "        \n",
    "    return ans"
   ]
  },
  {
   "cell_type": "code",
   "execution_count": 12,
   "metadata": {},
   "outputs": [
    {
     "data": {
      "text/plain": [
       "4"
      ]
     },
     "execution_count": 12,
     "metadata": {},
     "output_type": "execute_result"
    }
   ],
   "source": [
    "part2('input/day2_test.txt')"
   ]
  },
  {
   "cell_type": "code",
   "execution_count": 13,
   "metadata": {},
   "outputs": [
    {
     "data": {
      "text/plain": [
       "290"
      ]
     },
     "execution_count": 13,
     "metadata": {},
     "output_type": "execute_result"
    }
   ],
   "source": [
    "part2('input/day2.txt')"
   ]
  },
  {
   "cell_type": "code",
   "execution_count": null,
   "metadata": {},
   "outputs": [],
   "source": []
  }
 ],
 "metadata": {
  "kernelspec": {
   "display_name": "aiolos",
   "language": "python",
   "name": "python3"
  },
  "language_info": {
   "codemirror_mode": {
    "name": "ipython",
    "version": 3
   },
   "file_extension": ".py",
   "mimetype": "text/x-python",
   "name": "python",
   "nbconvert_exporter": "python",
   "pygments_lexer": "ipython3",
   "version": "3.12.4"
  }
 },
 "nbformat": 4,
 "nbformat_minor": 2
}
